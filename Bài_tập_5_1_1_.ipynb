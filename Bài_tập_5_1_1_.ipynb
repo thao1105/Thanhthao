{
  "nbformat": 4,
  "nbformat_minor": 0,
  "metadata": {
    "colab": {
      "provenance": [],
      "authorship_tag": "ABX9TyO9End/BYTSHI14n3o1vSTB",
      "include_colab_link": true
    },
    "kernelspec": {
      "name": "python3",
      "display_name": "Python 3"
    },
    "language_info": {
      "name": "python"
    }
  },
  "cells": [
    {
      "cell_type": "markdown",
      "metadata": {
        "id": "view-in-github",
        "colab_type": "text"
      },
      "source": [
        "<a href=\"https://colab.research.google.com/github/thao1105/Thanhthao/blob/main/B%C3%A0i_t%E1%BA%ADp_5_1_1_.ipynb\" target=\"_parent\"><img src=\"https://colab.research.google.com/assets/colab-badge.svg\" alt=\"Open In Colab\"/></a>"
      ]
    },
    {
      "cell_type": "markdown",
      "source": [
        "Bài 1 "
      ],
      "metadata": {
        "id": "h3MZ9-zOVO_b"
      }
    },
    {
      "cell_type": "code",
      "execution_count": null,
      "metadata": {
        "colab": {
          "base_uri": "https://localhost:8080/"
        },
        "id": "4lmCAzQHVD89",
        "outputId": "4d85fa29-a857-4e8a-f24d-37f38f51802d"
      },
      "outputs": [
        {
          "output_type": "stream",
          "name": "stdout",
          "text": [
            "Nhập vào số nguyên = 5\n",
            "[0, 1, 2, 3, 4]\n"
          ]
        }
      ],
      "source": [
        "n = abs(int(input(\"Nhập vào số nguyên = \")))\n",
        "x = []\n",
        "s = 0 \n",
        "s1 = 1\n",
        "for i in range(0,n,1):\n",
        "  x.append(i)\n",
        "print(x)"
      ]
    },
    {
      "cell_type": "markdown",
      "source": [
        "Bài 2.1"
      ],
      "metadata": {
        "id": "9dDSvIy8VSvJ"
      }
    },
    {
      "cell_type": "code",
      "source": [
        "s = 0 \n",
        "x = [0, 1, 2, 3, 4]\n",
        "for i in range(len(x)):\n",
        "  s= s +x[i]\n",
        "print(s)"
      ],
      "metadata": {
        "id": "JJD8J6m4rDhv",
        "colab": {
          "base_uri": "https://localhost:8080/"
        },
        "outputId": "6625c1cd-106f-47a9-f559-7fcb928677fb"
      },
      "execution_count": null,
      "outputs": [
        {
          "output_type": "stream",
          "name": "stdout",
          "text": [
            "10\n"
          ]
        }
      ]
    },
    {
      "cell_type": "markdown",
      "source": [
        "Bài 2.2"
      ],
      "metadata": {
        "id": "biaFQYSWVVQx"
      }
    },
    {
      "cell_type": "code",
      "source": [
        "s = 1 \n",
        "x = [0, 1, 2, 3, 4]\n",
        "for i in range(len(x)):\n",
        "  s = s *x[i]\n",
        "print(s)"
      ],
      "metadata": {
        "colab": {
          "base_uri": "https://localhost:8080/"
        },
        "id": "Vww_RcvDyqM8",
        "outputId": "5705644f-6913-4140-a0bd-e1fdd5e96897"
      },
      "execution_count": null,
      "outputs": [
        {
          "output_type": "stream",
          "name": "stdout",
          "text": [
            "0\n"
          ]
        }
      ]
    },
    {
      "cell_type": "markdown",
      "source": [
        "Bài 3.1"
      ],
      "metadata": {
        "id": "NoxhlZxLVXLv"
      }
    },
    {
      "cell_type": "code",
      "source": [
        "x = [0, 1, 2, 3, 4] \n",
        "for i in range(0,n-1):\n",
        "  print(\"phần từ theo chiều từ trái sang phải :\",(x[0:]))\n",
        "\n",
        "\n"
      ],
      "metadata": {
        "colab": {
          "base_uri": "https://localhost:8080/"
        },
        "id": "igy5wn7aTgu4",
        "outputId": "eb38a332-1f12-49f3-e387-f127d5b7be76"
      },
      "execution_count": null,
      "outputs": [
        {
          "output_type": "stream",
          "name": "stdout",
          "text": [
            "phần từ theo chiều từ trái sang phải : [0, 1, 2, 3, 4]\n",
            "phần từ theo chiều từ trái sang phải : [0, 1, 2, 3, 4]\n",
            "phần từ theo chiều từ trái sang phải : [0, 1, 2, 3, 4]\n"
          ]
        }
      ]
    },
    {
      "cell_type": "markdown",
      "source": [
        "Bài 3.2"
      ],
      "metadata": {
        "id": "Qghj2R8uVriD"
      }
    },
    {
      "cell_type": "code",
      "source": [
        "x = [0, 1, 2, 3, 4] \n",
        "x1 = []\n",
        "for i in range(4,-1,-1):\n",
        "  x1.append(x[i])\n",
        "print(\"phần tử theo từ chiều phải sang trái :\",x1)"
      ],
      "metadata": {
        "colab": {
          "base_uri": "https://localhost:8080/"
        },
        "id": "_UIJ0Gaccwcx",
        "outputId": "0328bcf4-b62a-4618-9120-d6c2931ad18b"
      },
      "execution_count": 20,
      "outputs": [
        {
          "output_type": "stream",
          "name": "stdout",
          "text": [
            "phần tử theo từ chiều phải sang trái : [4, 3, 2, 1, 0]\n"
          ]
        }
      ]
    },
    {
      "cell_type": "markdown",
      "source": [
        "Bài 4"
      ],
      "metadata": {
        "id": "H0pzFXclVuLo"
      }
    },
    {
      "cell_type": "code",
      "source": [
        "x1 = []\n",
        "n = int(input(\"Nhập n = \"))\n",
        "for i in range (0,n,1):\n",
        "  x1.append(i)\n",
        "print(x1)\n",
        "x = int(input(\"Nhập chỉ số x = \"))\n",
        "y = int(input(\"Nhập chỉ sô y = \"))\n",
        "if (((x>=0 and x<n) or (x<=-1 and x>=-n)) and ((y>=0 and x<n) or (y<=-1 and y>=-n))):\n",
        "  x1[x],x1[y]=x1[y],x1[x]\n",
        "  print(x1)\n",
        "else:\n",
        "   print(\"Nhập các chỉ số không có trong x \")\n"
      ],
      "metadata": {
        "colab": {
          "base_uri": "https://localhost:8080/"
        },
        "id": "2AzKoc_6gnFr",
        "outputId": "9fbd3fb2-3a94-4a17-febd-d25586e790e4"
      },
      "execution_count": null,
      "outputs": [
        {
          "output_type": "stream",
          "name": "stdout",
          "text": [
            "Nhập n = 5\n",
            "[0, 1, 2, 3, 4]\n",
            "Nhập chỉ số x = 2\n",
            "Nhập chỉ sô y = -1\n",
            "[0, 1, 4, 3, 2]\n"
          ]
        }
      ]
    },
    {
      "cell_type": "markdown",
      "source": [
        "Bài 5.1\n"
      ],
      "metadata": {
        "id": "pT4WU2MmVzGE"
      }
    },
    {
      "cell_type": "code",
      "source": [
        "x = [0, 1, 4, 3, 2]"
      ],
      "metadata": {
        "id": "TCvKe6X3W3gX"
      },
      "execution_count": 24,
      "outputs": []
    },
    {
      "cell_type": "markdown",
      "source": [
        "Bài 5.2"
      ],
      "metadata": {
        "id": "k2ZEgrfXW6c9"
      }
    },
    {
      "cell_type": "code",
      "source": [
        "x = [0, 1, 4, 3, 2]\n",
        "for n in x :\n",
        "  n = 4\n",
        "  index = x.index(4)\n",
        "print(f\"chỉ số của  {n} trong  {x}: {index}\")"
      ],
      "metadata": {
        "colab": {
          "base_uri": "https://localhost:8080/"
        },
        "id": "w8AtQ0H5q7jY",
        "outputId": "b357a7f9-0b71-4dc4-ae86-4577edf25e4e"
      },
      "execution_count": 23,
      "outputs": [
        {
          "output_type": "stream",
          "name": "stdout",
          "text": [
            "chỉ số của  4 trong  [0, 1, 4, 3, 2]: 2\n"
          ]
        }
      ]
    },
    {
      "cell_type": "markdown",
      "source": [
        "Bài 5.2"
      ],
      "metadata": {
        "id": "_3aV-s12W8Qi"
      }
    },
    {
      "cell_type": "code",
      "source": [
        "x = [0, 1, 4, 3, 2]\n",
        "n = abs(int(input(\"Nhập vào số nguyên = \")))\n",
        "for i in range(0,n,1):\n",
        "  s = 0 \n",
        "  if x[i] == n : \n",
        "     s+=1\n",
        "     break\n",
        "if s ==1:\n",
        "   print(\"phan tu\", n,\" có trong list \")\n",
        "else:\n",
        "  print(\"Không tìm thấy \")\n"
      ],
      "metadata": {
        "id": "ezC5uoMm4Unx",
        "colab": {
          "base_uri": "https://localhost:8080/"
        },
        "outputId": "022eae61-50b4-46b5-d4f3-393afb3897ea"
      },
      "execution_count": null,
      "outputs": [
        {
          "output_type": "stream",
          "name": "stdout",
          "text": [
            "Nhập vào số nguyên = 5\n",
            "Không tìm thấy \n"
          ]
        }
      ]
    },
    {
      "cell_type": "markdown",
      "source": [
        "Bài 5.3"
      ],
      "metadata": {
        "id": "_5JBdNp7W-JB"
      }
    },
    {
      "cell_type": "code",
      "source": [
        "x = [0, 1, 4, 3, 2]\n",
        "n = abs(int(input(\"Nhập vào số nguyên = \")))\n",
        "x1 = []\n",
        "x2 = []\n",
        "for i in range (0,len(x)):\n",
        "     if x[i] > n : \n",
        "      x1.append(i)\n",
        "      x2.append(x[i])\n",
        "print(x1)\n",
        "print(x2)\n"
      ],
      "metadata": {
        "colab": {
          "base_uri": "https://localhost:8080/"
        },
        "id": "zIAjBDkBKlvS",
        "outputId": "c1b35b5c-cb5a-45bc-ceb6-608df05c6abb"
      },
      "execution_count": 11,
      "outputs": [
        {
          "output_type": "stream",
          "name": "stdout",
          "text": [
            "Nhập vào số nguyên = 3\n",
            "[2]\n",
            "[4]\n"
          ]
        }
      ]
    },
    {
      "cell_type": "markdown",
      "source": [
        "Bài 5.4"
      ],
      "metadata": {
        "id": "4vWs9YiHW_0V"
      }
    },
    {
      "cell_type": "code",
      "source": [
        "x = [0, 1, 4, 3, 2]\n",
        "n = abs(int(input(\"Nhập vào số nguyên = \")))\n",
        "x1 = []\n",
        "x2 = []\n",
        "for i in range (0,len(x)):\n",
        "     if x[i] < n : \n",
        "      x1.append(i)\n",
        "      x2.append(x[i])\n",
        "print(x1)\n",
        "print(x2)"
      ],
      "metadata": {
        "colab": {
          "base_uri": "https://localhost:8080/"
        },
        "id": "_jZzOvl9P8m6",
        "outputId": "15da9e87-a3c1-40cc-e30f-d2474abb2f40"
      },
      "execution_count": 18,
      "outputs": [
        {
          "output_type": "stream",
          "name": "stdout",
          "text": [
            "Nhập vào số nguyên = 3\n",
            "[0, 1, 4]\n",
            "[0, 1, 2]\n"
          ]
        }
      ]
    }
  ]
}
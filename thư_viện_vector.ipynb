{
  "nbformat": 4,
  "nbformat_minor": 0,
  "metadata": {
    "colab": {
      "provenance": [],
      "authorship_tag": "ABX9TyMCXQX9gxY7nJzdC7vMSxA/",
      "include_colab_link": true
    },
    "kernelspec": {
      "name": "python3",
      "display_name": "Python 3"
    },
    "language_info": {
      "name": "python"
    }
  },
  "cells": [
    {
      "cell_type": "markdown",
      "metadata": {
        "id": "view-in-github",
        "colab_type": "text"
      },
      "source": [
        "<a href=\"https://colab.research.google.com/github/thao1105/Thanhthao/blob/main/th%C6%B0_vi%E1%BB%87n_vector.ipynb\" target=\"_parent\"><img src=\"https://colab.research.google.com/assets/colab-badge.svg\" alt=\"Open In Colab\"/></a>"
      ]
    },
    {
      "cell_type": "markdown",
      "source": [
        "Bài 1 "
      ],
      "metadata": {
        "id": "3M9z8qb4X4ru"
      }
    },
    {
      "cell_type": "code",
      "source": [
        "import numpy as np "
      ],
      "metadata": {
        "id": "IolaExpiaLBn"
      },
      "execution_count": null,
      "outputs": []
    },
    {
      "cell_type": "markdown",
      "source": [
        "Bài 2"
      ],
      "metadata": {
        "id": "xD687LGpaNM_"
      }
    },
    {
      "cell_type": "code",
      "execution_count": null,
      "metadata": {
        "colab": {
          "base_uri": "https://localhost:8080/"
        },
        "id": "0HCqZhDYNzzW",
        "outputId": "5b0a095d-3a43-408b-8dc0-40041d786c01"
      },
      "outputs": [
        {
          "output_type": "stream",
          "name": "stdout",
          "text": [
            "[ 0  1  2  3  4  5  6  7  8  9 10 11 12 13 14]\n",
            "[-5 -4 -3 -2 -1  0  1  2  3  4  5  6  7  8  9]\n"
          ]
        }
      ],
      "source": [
        "import numpy as np \n",
        "v1 = np.arange(15, dtype=int)\n",
        "v2 = np.arange(start=-5, stop =\n",
        "10, dtype=int)\n",
        "print(v1)\n",
        "print(v2)"
      ]
    },
    {
      "cell_type": "markdown",
      "source": [
        "Bài 3"
      ],
      "metadata": {
        "id": "p_jShkqxX79a"
      }
    },
    {
      "cell_type": "code",
      "source": [
        "import numpy as np \n",
        "v3 = np.linspace(start=-2,stop=3,num=15,dtype=float)\n",
        "print(v3)"
      ],
      "metadata": {
        "colab": {
          "base_uri": "https://localhost:8080/"
        },
        "id": "p4FzwJNHOKDa",
        "outputId": "72affbd0-eb37-4dde-c055-2e64f98d1e1e"
      },
      "execution_count": null,
      "outputs": [
        {
          "output_type": "stream",
          "name": "stdout",
          "text": [
            "[-2.         -1.64285714 -1.28571429 -0.92857143 -0.57142857 -0.21428571\n",
            "  0.14285714  0.5         0.85714286  1.21428571  1.57142857  1.92857143\n",
            "  2.28571429  2.64285714  3.        ]\n"
          ]
        }
      ]
    },
    {
      "cell_type": "markdown",
      "source": [
        "Bài 4"
      ],
      "metadata": {
        "id": "o0gNdU-uYcnT"
      }
    },
    {
      "cell_type": "code",
      "source": [
        "import numpy as np \n",
        "import random\n",
        "np.random.seed(123)\n",
        "v4 = np.random.randint(2, size=10)\n",
        "print(v4)\n",
        "v5 = np.random.randint(low=-3,high=3, size=10)\n",
        "print(v5)"
      ],
      "metadata": {
        "colab": {
          "base_uri": "https://localhost:8080/"
        },
        "id": "OHqS_d-7Yd3O",
        "outputId": "698f91d1-3ed6-459f-82ef-41ae40872b75"
      },
      "execution_count": null,
      "outputs": [
        {
          "output_type": "stream",
          "name": "stdout",
          "text": [
            "[0 1 0 0 0 0 0 1 1 0]\n",
            "[ 0 -2 -2 -3 -2 -2 -3 -3 -2  0]\n"
          ]
        }
      ]
    },
    {
      "cell_type": "markdown",
      "source": [
        "Bài 5\n"
      ],
      "metadata": {
        "id": "7Z1FLcICaGa3"
      }
    },
    {
      "cell_type": "code",
      "source": [
        "v6 = np.random.random_sample(10)\n",
        "print(v6)\n",
        "a =-3\n",
        "b = 4\n",
        "v5 = (b -a)*np.random.random_sample(10) + a\n",
        "print(v5)"
      ],
      "metadata": {
        "colab": {
          "base_uri": "https://localhost:8080/"
        },
        "id": "cMMjfR-YZfIT",
        "outputId": "0af57b85-c4c6-4972-ebae-418d3e8a2f8b"
      },
      "execution_count": null,
      "outputs": [
        {
          "output_type": "stream",
          "name": "stdout",
          "text": [
            "[0.28270293 0.43341824 0.00975735 0.34079598 0.68927201 0.86936929\n",
            " 0.26780382 0.45674792 0.26828131 0.8370528 ]\n",
            "[-1.10639735  0.71043408 -1.77239137 -0.79523488  3.23776367 -1.73764602\n",
            "  0.46021342 -1.51391328  0.64613808 -1.8793004 ]\n"
          ]
        }
      ]
    },
    {
      "cell_type": "markdown",
      "source": [
        "Bài 6 "
      ],
      "metadata": {
        "id": "i4e7Ipi_aWRe"
      }
    },
    {
      "cell_type": "markdown",
      "source": [
        "Vector các số nguyên có n phần tử\n",
        "và có giá trị tăng dần từ a đến b"
      ],
      "metadata": {
        "id": "tqW7DcR9cf6P"
      }
    },
    {
      "cell_type": "code",
      "source": [
        "import numpy as np \n",
        "a = np.arange(10,dtype=int)\n",
        "print(a)"
      ],
      "metadata": {
        "colab": {
          "base_uri": "https://localhost:8080/"
        },
        "id": "rwdcyRosZzpu",
        "outputId": "2ccbfcf5-0432-4123-e40c-ea18f57d0609"
      },
      "execution_count": null,
      "outputs": [
        {
          "output_type": "stream",
          "name": "stdout",
          "text": [
            "[0 1 2 3 4 5 6 7 8 9]\n"
          ]
        }
      ]
    },
    {
      "cell_type": "markdown",
      "source": [
        "Vector các số thực có n phần tử và\n",
        "có giá trị tăng dần từ c đến d;"
      ],
      "metadata": {
        "id": "Qu8EbAmYcj4I"
      }
    },
    {
      "cell_type": "code",
      "source": [
        "import numpy as np \n",
        "a = np.linspace(-3,2,num=15,dtype=float)\n",
        "print(a)"
      ],
      "metadata": {
        "colab": {
          "base_uri": "https://localhost:8080/"
        },
        "id": "3EPYKlt-amL1",
        "outputId": "9cdd6488-b262-45f8-a134-0527813b6aad"
      },
      "execution_count": null,
      "outputs": [
        {
          "output_type": "stream",
          "name": "stdout",
          "text": [
            "[-3.         -2.64285714 -2.28571429 -1.92857143 -1.57142857 -1.21428571\n",
            " -0.85714286 -0.5        -0.14285714  0.21428571  0.57142857  0.92857143\n",
            "  1.28571429  1.64285714  2.        ]\n"
          ]
        }
      ]
    },
    {
      "cell_type": "markdown",
      "source": [
        "Vector ngẫu nhiên các số nguyên n\n",
        "phần tử có giá trị trong [a,b];"
      ],
      "metadata": {
        "id": "48Bb93COcnpM"
      }
    },
    {
      "cell_type": "code",
      "source": [
        "import numpy as np \n",
        "import random \n",
        "a = np.random.randint(-2,3,size = 10)\n",
        "print(a)"
      ],
      "metadata": {
        "colab": {
          "base_uri": "https://localhost:8080/"
        },
        "id": "r2QvU_6cbY8E",
        "outputId": "f05c394c-4c33-41ef-de09-fc00823af666"
      },
      "execution_count": null,
      "outputs": [
        {
          "output_type": "stream",
          "name": "stdout",
          "text": [
            "[ 2  2  1  2  1 -2  2  2  2  2]\n"
          ]
        }
      ]
    },
    {
      "cell_type": "markdown",
      "source": [
        "Vector ngẫu nhiên các số thực n\n",
        "phần tử có giá trị trong [c,d]."
      ],
      "metadata": {
        "id": "foLcCUK0cq5e"
      }
    },
    {
      "cell_type": "code",
      "source": [
        "import numpy as np\n",
        "import random \n",
        "c = 2\n",
        "d = 3\n",
        "a =(d-c)*np.random.random_sample(size=10) + c \n",
        "print(a)"
      ],
      "metadata": {
        "colab": {
          "base_uri": "https://localhost:8080/"
        },
        "id": "1C5AzrpYb2Fp",
        "outputId": "e2771acb-17d0-41eb-b2bf-a7317baf2314"
      },
      "execution_count": null,
      "outputs": [
        {
          "output_type": "stream",
          "name": "stdout",
          "text": [
            "[2.6917018  2.15112745 2.39887629 2.2408559  2.34345601 2.51312815\n",
            " 2.66662455 2.10590849 2.13089495 2.32198061]\n"
          ]
        }
      ]
    },
    {
      "cell_type": "markdown",
      "source": [
        "Bài 7"
      ],
      "metadata": {
        "id": "nZdBnVQldZuM"
      }
    },
    {
      "cell_type": "code",
      "source": [
        "print(v5.shape)\n",
        "print(v5.ndim)"
      ],
      "metadata": {
        "colab": {
          "base_uri": "https://localhost:8080/"
        },
        "id": "fIMwqhZec0at",
        "outputId": "3ea63150-d2c5-4110-f718-d9bd10178ca2"
      },
      "execution_count": null,
      "outputs": [
        {
          "output_type": "stream",
          "name": "stdout",
          "text": [
            "(10,)\n",
            "1\n"
          ]
        }
      ]
    },
    {
      "cell_type": "markdown",
      "source": [
        "PHÉP TOÁN "
      ],
      "metadata": {
        "id": "VWnml_oZfEjY"
      }
    },
    {
      "cell_type": "markdown",
      "source": [
        "Bài 1 "
      ],
      "metadata": {
        "id": "LxhQYPSMfRq0"
      }
    },
    {
      "cell_type": "code",
      "source": [
        "import random \n",
        "x = []\n",
        "x1 = []\n",
        "a = int(input(\"Nhập a = \"))\n",
        "for i in range(0,10,1):\n",
        "  x.append(random.randint(-10,10))\n",
        "  x1.append(x[i]*a)\n",
        "print(x)\n",
        "print(x1)"
      ],
      "metadata": {
        "colab": {
          "base_uri": "https://localhost:8080/"
        },
        "id": "eZv0W4kldWZw",
        "outputId": "feb169bd-ffa9-4a38-ffc0-0a1e78d0280e"
      },
      "execution_count": null,
      "outputs": [
        {
          "output_type": "stream",
          "name": "stdout",
          "text": [
            "Nhập a = 8\n",
            "[-5, -3, 1, -5, -7, -6, 2, -4, 7, 10]\n",
            "[-40, -24, 8, -40, -56, -48, 16, -32, 56, 80]\n"
          ]
        }
      ]
    },
    {
      "cell_type": "markdown",
      "source": [
        "Bài 2"
      ],
      "metadata": {
        "id": "9cJhGX-G06vx"
      }
    },
    {
      "cell_type": "code",
      "source": [
        "import random \n",
        "import numpy as np \n",
        "x = np.random.randint(5, size=10)\n",
        "y = np.random.randint(low=-5,high=5, size=10)\n",
        "z = x + y\n",
        "print(x)\n",
        "print(y)\n",
        "print('z = ', z)"
      ],
      "metadata": {
        "colab": {
          "base_uri": "https://localhost:8080/"
        },
        "id": "wk0rsz9z0iBH",
        "outputId": "5f9f2db5-836b-43f9-ef79-dcbddacbc2e9"
      },
      "execution_count": 4,
      "outputs": [
        {
          "output_type": "stream",
          "name": "stdout",
          "text": [
            "[3 2 1 1 2 3 0 2 0 2]\n",
            "[ 2 -4 -2  4 -4 -3 -3  0  1  0]\n",
            "z =  [ 5 -2 -1  5 -2  0 -3  2  1  2]\n"
          ]
        }
      ]
    },
    {
      "cell_type": "markdown",
      "source": [
        "Bài 3 "
      ],
      "metadata": {
        "id": "e_A7OzI409GS"
      }
    },
    {
      "cell_type": "code",
      "source": [
        "import random \n",
        "import numpy as np\n",
        "x = np.random.randint(5, size=10)\n",
        "y = np.random.randint(low=-\n",
        "5,high=5, size=10)\n",
        "print('x = ', x)\n",
        "print('y = ', y)\n",
        "n = np.dot(x, y)\n",
        "print('n = ', n)"
      ],
      "metadata": {
        "colab": {
          "base_uri": "https://localhost:8080/"
        },
        "id": "AwG9PVW61GAF",
        "outputId": "6657f52b-8e9c-47c9-a49b-3502fd926418"
      },
      "execution_count": 5,
      "outputs": [
        {
          "output_type": "stream",
          "name": "stdout",
          "text": [
            "x =  [0 4 0 1 1 1 2 0 3 2]\n",
            "y =  [ 0  2 -2 -3 -5  3 -5 -3  4 -3]\n",
            "n =  -1\n"
          ]
        }
      ]
    },
    {
      "cell_type": "markdown",
      "source": [
        "Bài 4"
      ],
      "metadata": {
        "id": "1lbBuV9a1stP"
      }
    },
    {
      "cell_type": "code",
      "source": [
        "import numpy as np \n",
        "import random \n",
        "x = np.random.randint(5, size=10)\n",
        "y = np.random.randint(low=-\n",
        "5,high=5, size=10)\n",
        "print('x = ', x)\n",
        "print('y = ', y)\n",
        "h = np.multiply(x, y)\n",
        "print('Hadamard product = ', h)"
      ],
      "metadata": {
        "colab": {
          "base_uri": "https://localhost:8080/"
        },
        "id": "zVkXguI8faaX",
        "outputId": "5f4fdcd8-411d-4d62-e902-0b5ce1467a4c"
      },
      "execution_count": 6,
      "outputs": [
        {
          "output_type": "stream",
          "name": "stdout",
          "text": [
            "x =  [1 1 4 1 3 1 3 4 0 0]\n",
            "y =  [ 2  4 -1 -3  4 -5 -1 -3 -3 -5]\n",
            "Hadamard product =  [  2   4  -4  -3  12  -5  -3 -12   0   0]\n"
          ]
        }
      ]
    }
  ]
}
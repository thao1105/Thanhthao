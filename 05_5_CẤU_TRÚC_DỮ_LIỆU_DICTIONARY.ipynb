{
  "nbformat": 4,
  "nbformat_minor": 0,
  "metadata": {
    "colab": {
      "provenance": [],
      "authorship_tag": "ABX9TyNrSrBK+/HbuYPSxLmlazXc",
      "include_colab_link": true
    },
    "kernelspec": {
      "name": "python3",
      "display_name": "Python 3"
    },
    "language_info": {
      "name": "python"
    }
  },
  "cells": [
    {
      "cell_type": "markdown",
      "metadata": {
        "id": "view-in-github",
        "colab_type": "text"
      },
      "source": [
        "<a href=\"https://colab.research.google.com/github/thao1105/Thanhthao/blob/main/05_5_C%E1%BA%A4U_TR%C3%9AC_D%E1%BB%AE_LI%E1%BB%86U_DICTIONARY.ipynb\" target=\"_parent\"><img src=\"https://colab.research.google.com/assets/colab-badge.svg\" alt=\"Open In Colab\"/></a>"
      ]
    },
    {
      "cell_type": "markdown",
      "source": [
        "Câu 1 "
      ],
      "metadata": {
        "id": "eAASLV3T6-yG"
      }
    },
    {
      "cell_type": "code",
      "execution_count": 3,
      "metadata": {
        "colab": {
          "base_uri": "https://localhost:8080/"
        },
        "id": "N15KnHyy3DIP",
        "outputId": "f18eee7d-abf6-4a56-b097-383e696af1a4"
      },
      "outputs": [
        {
          "output_type": "stream",
          "name": "stdout",
          "text": [
            "Dell\n",
            "{'producer': 'Dell', 'model': 'Inspiron', 'year': 2017}\n"
          ]
        }
      ],
      "source": [
        "d = {\"producer\": \"Dell\",\"model\": \"Inspiron\",\"year\": 2017}\n",
        "print(d[\"producer\"])\n",
        "print(d)"
      ]
    },
    {
      "cell_type": "markdown",
      "source": [
        "Câu 2 "
      ],
      "metadata": {
        "id": "N07HBKsL_z2V"
      }
    },
    {
      "cell_type": "code",
      "source": [
        "d = {\"producer\": \"Dell\",\"model\": \"Inspiron\",\"year\": 2017,\"colors\": [\"red\", \"white\", \"blue\"]}\n",
        "print(d[\"colors\"])"
      ],
      "metadata": {
        "colab": {
          "base_uri": "https://localhost:8080/"
        },
        "id": "g0MIZQwM7plq",
        "outputId": "9cc1cfc5-7400-4da9-d359-e3829093c838"
      },
      "execution_count": 11,
      "outputs": [
        {
          "output_type": "stream",
          "name": "stdout",
          "text": [
            "['red', 'white', 'blue']\n"
          ]
        }
      ]
    },
    {
      "cell_type": "code",
      "source": [
        "d['producer'] = 'Google Inc'\n",
        "print(d)"
      ],
      "metadata": {
        "colab": {
          "base_uri": "https://localhost:8080/"
        },
        "id": "8WLyXm5K-gI6",
        "outputId": "82fc0854-d201-4512-ffe3-f647cec28f77"
      },
      "execution_count": 16,
      "outputs": [
        {
          "output_type": "stream",
          "name": "stdout",
          "text": [
            "{'producer': 'Google Inc', 'model': 'Inspiron', 'year': 2017, 'colors': ['red', 'white', 'blue']}\n"
          ]
        }
      ]
    },
    {
      "cell_type": "markdown",
      "source": [
        "Câu 3"
      ],
      "metadata": {
        "id": "OfxEHrClNAMy"
      }
    },
    {
      "cell_type": "code",
      "source": [
        "import json\n",
        "x = {'producer': 'Google Inc', 'model': 'Inspiron', 'year': 2017, 'colors': ['red', 'white', 'blue']}\n",
        "y=json.dumps(x)\n",
        "print(y)"
      ],
      "metadata": {
        "colab": {
          "base_uri": "https://localhost:8080/"
        },
        "id": "HO6GxgThL7V7",
        "outputId": "acb443ea-c5a5-4e20-8736-d3e9dbba6b3a"
      },
      "execution_count": 29,
      "outputs": [
        {
          "output_type": "stream",
          "name": "stdout",
          "text": [
            "{\"producer\": \"Google Inc\", \"model\": \"Inspiron\", \"year\": 2017, \"colors\": [\"red\", \"white\", \"blue\"]}\n"
          ]
        }
      ]
    }
  ]
}
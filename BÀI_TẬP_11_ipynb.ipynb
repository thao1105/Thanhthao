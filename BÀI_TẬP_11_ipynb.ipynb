{
  "nbformat": 4,
  "nbformat_minor": 0,
  "metadata": {
    "colab": {
      "provenance": [],
      "authorship_tag": "ABX9TyPkmqpPXk8E9KbWdzebvsLM",
      "include_colab_link": true
    },
    "kernelspec": {
      "name": "python3",
      "display_name": "Python 3"
    },
    "language_info": {
      "name": "python"
    }
  },
  "cells": [
    {
      "cell_type": "markdown",
      "metadata": {
        "id": "view-in-github",
        "colab_type": "text"
      },
      "source": [
        "<a href=\"https://colab.research.google.com/github/thao1105/Thanhthao/blob/main/B%C3%80I_T%E1%BA%ACP_11_ipynb.ipynb\" target=\"_parent\"><img src=\"https://colab.research.google.com/assets/colab-badge.svg\" alt=\"Open In Colab\"/></a>"
      ]
    },
    {
      "cell_type": "markdown",
      "source": [
        "1. Giải phương trình"
      ],
      "metadata": {
        "id": "VUxATH-zN8Ho"
      }
    },
    {
      "cell_type": "markdown",
      "source": [
        "Ví dụ "
      ],
      "metadata": {
        "id": "2rFHP8TBQKrO"
      }
    },
    {
      "cell_type": "code",
      "source": [
        "from sympy import symbols, Eq, solve\n",
        "x = symbols('x')\n",
        "eq = Eq(2*x - 6, 0)\n",
        "answer = solve(eq, x)\n",
        "print('Nghiệm: ', answer)"
      ],
      "metadata": {
        "colab": {
          "base_uri": "https://localhost:8080/"
        },
        "id": "Aurg3oMZQDO4",
        "outputId": "fb562f5a-a299-4e6c-c696-6158bbe2d1e7"
      },
      "execution_count": 1,
      "outputs": [
        {
          "output_type": "stream",
          "name": "stdout",
          "text": [
            "Nghiệm:  [3]\n"
          ]
        }
      ]
    },
    {
      "cell_type": "markdown",
      "source": [
        "Câu 1 "
      ],
      "metadata": {
        "id": "N4c8ZG0K4-E3"
      }
    },
    {
      "cell_type": "code",
      "execution_count": null,
      "metadata": {
        "colab": {
          "base_uri": "https://localhost:8080/"
        },
        "id": "Mobe3Z-t4PMa",
        "outputId": "56697d76-e5c5-4050-a950-0265f8aa0fcf"
      },
      "outputs": [
        {
          "output_type": "stream",
          "name": "stdout",
          "text": [
            "Nghiệm:  [5/2]\n"
          ]
        }
      ],
      "source": [
        "from sympy import symbols, Eq, solve\n",
        "x = symbols('x')\n",
        "eq = Eq(-2*x + 5, 0)\n",
        "answer = solve(eq, x)\n",
        "print('Nghiệm: ', answer)"
      ]
    },
    {
      "cell_type": "markdown",
      "source": [
        "Câu 2"
      ],
      "metadata": {
        "id": "1o7Vmdid5AnR"
      }
    },
    {
      "cell_type": "code",
      "source": [
        "from sympy import symbols, Eq, solve\n",
        "x = symbols('x')\n",
        "eq = Eq(5*x - 9, 0)\n",
        "answer = solve(eq, x)\n",
        "print('Nghiệm: ', answer)"
      ],
      "metadata": {
        "colab": {
          "base_uri": "https://localhost:8080/"
        },
        "id": "08rY84nk4x6E",
        "outputId": "9f5f5394-33e3-4802-bcfe-34a9aeec3ae4"
      },
      "execution_count": null,
      "outputs": [
        {
          "output_type": "stream",
          "name": "stdout",
          "text": [
            "Nghiệm:  [9/5]\n"
          ]
        }
      ]
    },
    {
      "cell_type": "markdown",
      "source": [
        "2. Giải hệ phương trình"
      ],
      "metadata": {
        "id": "-dq4VxUxN92n"
      }
    },
    {
      "cell_type": "markdown",
      "source": [
        "Ví dụ "
      ],
      "metadata": {
        "id": "YoBFQJ8yQlfm"
      }
    },
    {
      "cell_type": "code",
      "source": [
        "from sympy import symbols, Eq, solve\n",
        "x, y = symbols('x y')\n",
        "eq1 = Eq(2*x + y - 1, 0)\n",
        "eq2 = Eq(x + y - 5, 0)\n",
        "answer = solve((eq1, eq2), (x,y))\n",
        "print(answer)"
      ],
      "metadata": {
        "colab": {
          "base_uri": "https://localhost:8080/"
        },
        "id": "hbGJis2xQde-",
        "outputId": "a5cd4c2a-fb40-4d9d-d227-389c919f5afa"
      },
      "execution_count": 11,
      "outputs": [
        {
          "output_type": "stream",
          "name": "stdout",
          "text": [
            "{x: -4, y: 9}\n"
          ]
        }
      ]
    },
    {
      "cell_type": "markdown",
      "source": [
        "Câu 1"
      ],
      "metadata": {
        "id": "RuQgVZmqOAqg"
      }
    },
    {
      "cell_type": "code",
      "source": [
        "from sympy import symbols, Eq, solve\n",
        "x, y = symbols('x y')\n",
        "eq1 = Eq(1*x - 1*y , 3)\n",
        "eq2 = Eq(3*x - 4*y , 4 )\n",
        "answer = solve((eq1, eq2), (x,y))\n",
        "print(answer)"
      ],
      "metadata": {
        "colab": {
          "base_uri": "https://localhost:8080/"
        },
        "id": "y_04aon55EYw",
        "outputId": "f7a3c2f7-cdac-4f09-c158-6736c977ca18"
      },
      "execution_count": null,
      "outputs": [
        {
          "output_type": "stream",
          "name": "stdout",
          "text": [
            "{x: 8, y: 5}\n"
          ]
        }
      ]
    },
    {
      "cell_type": "markdown",
      "source": [
        "Câu 2"
      ],
      "metadata": {
        "id": "s8NgpTo9OHBw"
      }
    },
    {
      "cell_type": "code",
      "source": [
        "from sympy import symbols, Eq, solve\n",
        "x, y, z = symbols('x y z')\n",
        "eq1 = Eq(1*x - 1*y + 2*z , 4)\n",
        "eq2 = Eq(2*x - 1*y -1*z , -1 )\n",
        "eq3 = Eq(1*x + 1*y + 1*z , 5)\n",
        "answer = solve((eq1, eq2, eq3), (x,y,z))\n",
        "print(answer)"
      ],
      "metadata": {
        "colab": {
          "base_uri": "https://localhost:8080/"
        },
        "id": "CHulxNHm5jOn",
        "outputId": "c6a39d50-1147-4400-8f1d-a90e88ff2323"
      },
      "execution_count": null,
      "outputs": [
        {
          "output_type": "stream",
          "name": "stdout",
          "text": [
            "{x: 4/3, y: 14/9, z: 19/9}\n"
          ]
        }
      ]
    },
    {
      "cell_type": "markdown",
      "source": [
        "3. Tính đạo hàm"
      ],
      "metadata": {
        "id": "4gQn2l8IOIHH"
      }
    },
    {
      "cell_type": "markdown",
      "source": [
        "Ví dụ "
      ],
      "metadata": {
        "id": "TGYTXBQ5QorP"
      }
    },
    {
      "cell_type": "code",
      "source": [
        "from sympy import *\n",
        "x = symbols('x')\n",
        "f = sin(x)/x\n",
        "answer = limit(f, x, 0)\n",
        "print('Kết quả giới hạn: ', answer)"
      ],
      "metadata": {
        "colab": {
          "base_uri": "https://localhost:8080/"
        },
        "id": "f_tsff7tQptv",
        "outputId": "72eb82b1-48e9-445c-9354-fb72708a2390"
      },
      "execution_count": 4,
      "outputs": [
        {
          "output_type": "stream",
          "name": "stdout",
          "text": [
            "Kết quả giới hạn:  1\n"
          ]
        }
      ]
    },
    {
      "cell_type": "code",
      "source": [
        "from sympy import *\n",
        "x = symbols('x')\n",
        "f = sin(x)\n",
        "answer = diff(f, x)\n",
        "print(answer)"
      ],
      "metadata": {
        "colab": {
          "base_uri": "https://localhost:8080/"
        },
        "id": "ywoklCneRDOn",
        "outputId": "ceaaed2e-f6c1-4a7e-c27b-a4fdc8c6a58d"
      },
      "execution_count": 5,
      "outputs": [
        {
          "output_type": "stream",
          "name": "stdout",
          "text": [
            "cos(x)\n"
          ]
        }
      ]
    },
    {
      "cell_type": "markdown",
      "source": [
        "Bài 3.1 "
      ],
      "metadata": {
        "id": "NjgdZ4-SOteh"
      }
    },
    {
      "cell_type": "code",
      "source": [
        "from sympy import *\n",
        "x = symbols('x')\n",
        "f = (x-8)/(x-2)\n",
        "answer = limit(f, x, 2)\n",
        "print('Kết quả giới hạn: ', answer)"
      ],
      "metadata": {
        "colab": {
          "base_uri": "https://localhost:8080/"
        },
        "id": "n54rPjlJ6sIB",
        "outputId": "e6bc110e-4167-40ac-a519-aeb79e819f98"
      },
      "execution_count": 12,
      "outputs": [
        {
          "output_type": "stream",
          "name": "stdout",
          "text": [
            "Kết quả giới hạn:  -oo\n"
          ]
        }
      ]
    },
    {
      "cell_type": "markdown",
      "source": [
        "Bài 3.2 "
      ],
      "metadata": {
        "id": "EIpgGyObOyhP"
      }
    },
    {
      "cell_type": "code",
      "source": [
        "from sympy import *\n",
        "x = symbols('x')\n",
        "f = (1 - cos(x))/sin(x)\n",
        "answer = limit(f, x, 0)\n",
        "print('Kết quả giới hạn: ', answer)"
      ],
      "metadata": {
        "colab": {
          "base_uri": "https://localhost:8080/"
        },
        "id": "O4XNNtu2FjMd",
        "outputId": "e89a228c-d834-4ff2-928f-0af137bbe5d2"
      },
      "execution_count": null,
      "outputs": [
        {
          "output_type": "stream",
          "name": "stdout",
          "text": [
            "Kết quả giới hạn:  0\n"
          ]
        }
      ]
    },
    {
      "cell_type": "markdown",
      "source": [
        "Bài 3.3"
      ],
      "metadata": {
        "id": "FPcHVP8BO0A3"
      }
    },
    {
      "cell_type": "code",
      "source": [
        "from sympy import *\n",
        "x = symbols('x')\n",
        "f= (3*x**2 + 6*x - 8)\n",
        "answer = diff(f, x)\n",
        "print(answer)"
      ],
      "metadata": {
        "colab": {
          "base_uri": "https://localhost:8080/"
        },
        "id": "E8hJ_6c1O4nm",
        "outputId": "5d437cee-b3a6-40f1-848a-002612af6892"
      },
      "execution_count": null,
      "outputs": [
        {
          "output_type": "stream",
          "name": "stdout",
          "text": [
            "6*x + 6\n"
          ]
        }
      ]
    },
    {
      "cell_type": "markdown",
      "source": [
        "Bài 3.4"
      ],
      "metadata": {
        "id": "iCdsc4D2PSYH"
      }
    },
    {
      "cell_type": "code",
      "source": [
        "from sympy import *\n",
        "x = symbols('x')\n",
        "f= tan(x)\n",
        "answer = diff(f, x)\n",
        "print(answer)"
      ],
      "metadata": {
        "colab": {
          "base_uri": "https://localhost:8080/"
        },
        "id": "i73wWW88TCP6",
        "outputId": "5982236e-22be-4b19-a6e5-e4117cb9756a"
      },
      "execution_count": null,
      "outputs": [
        {
          "output_type": "stream",
          "name": "stdout",
          "text": [
            "tan(x)**2 + 1\n"
          ]
        }
      ]
    },
    {
      "cell_type": "markdown",
      "source": [
        "4. Tính tích phân\n"
      ],
      "metadata": {
        "id": "G-udOT6UPT6n"
      }
    },
    {
      "cell_type": "markdown",
      "source": [
        "ví dụ \n"
      ],
      "metadata": {
        "id": "_kSq3kZhQ0OH"
      }
    },
    {
      "cell_type": "code",
      "source": [
        "from sympy import *\n",
        "x = symbols('x')\n",
        "f = cos(x)\n",
        "answer = integrate(f, x)\n",
        "print(answer)"
      ],
      "metadata": {
        "colab": {
          "base_uri": "https://localhost:8080/"
        },
        "id": "PhPMy4jDQ1ee",
        "outputId": "cd28bf74-e91e-45f0-d042-c4bdae3bf1b2"
      },
      "execution_count": 6,
      "outputs": [
        {
          "output_type": "stream",
          "name": "stdout",
          "text": [
            "sin(x)\n"
          ]
        }
      ]
    },
    {
      "cell_type": "code",
      "source": [
        "from sympy import *\n",
        "x = symbols('x')\n",
        "f = exp(-x)\n",
        "answer = integrate(f, (x,0, oo))\n",
        "print(answer)"
      ],
      "metadata": {
        "colab": {
          "base_uri": "https://localhost:8080/"
        },
        "id": "3P18S6OkROGW",
        "outputId": "3f58013d-c5f0-4ece-d301-af2998bf3813"
      },
      "execution_count": 7,
      "outputs": [
        {
          "output_type": "stream",
          "name": "stdout",
          "text": [
            "1\n"
          ]
        }
      ]
    },
    {
      "cell_type": "code",
      "source": [
        "from sympy import *\n",
        "x, y = symbols('x y')\n",
        "f = exp(-x**2-y**2)\n",
        "answer = integrate(f, (x, -oo, +oo),(y, -oo, +oo))\n",
        "print(answer)"
      ],
      "metadata": {
        "colab": {
          "base_uri": "https://localhost:8080/"
        },
        "id": "_hYx4Zs0RWpw",
        "outputId": "20b6d3d1-d411-495c-dfc6-d679f64c0f1e"
      },
      "execution_count": 8,
      "outputs": [
        {
          "output_type": "stream",
          "name": "stdout",
          "text": [
            "pi\n"
          ]
        }
      ]
    },
    {
      "cell_type": "code",
      "source": [
        "from sympy import *\n",
        "x = symbols('x')\n",
        "f = sin(2*x)*sin(7*x)\n",
        "answer = integrate(f, (x,-pi/2, pi/2))\n",
        "print(answer)"
      ],
      "metadata": {
        "colab": {
          "base_uri": "https://localhost:8080/"
        },
        "id": "uhGM8xWaZ0tG",
        "outputId": "df92d55c-355e-4b19-94f8-3c6449355f4b"
      },
      "execution_count": null,
      "outputs": [
        {
          "output_type": "stream",
          "name": "stdout",
          "text": [
            "4/45\n"
          ]
        }
      ]
    },
    {
      "cell_type": "code",
      "source": [
        "from sympy import *\n",
        "x , y= symbols('x y')\n",
        "f = (2*sin(x) - 3*y**3 + 5)\n",
        "answer = integrate(f, x,y)\n",
        "print(answer)\n"
      ],
      "metadata": {
        "colab": {
          "base_uri": "https://localhost:8080/"
        },
        "id": "IbhnU6Bner-t",
        "outputId": "271066cc-b2e2-4be3-edaf-477c55a77d34"
      },
      "execution_count": 10,
      "outputs": [
        {
          "output_type": "stream",
          "name": "stdout",
          "text": [
            "-3*x*y**4/4 + y*(5*x - 2*cos(x))\n"
          ]
        }
      ]
    },
    {
      "cell_type": "code",
      "source": [
        "from sympy import *\n",
        "x , y= symbols('x y')\n",
        "f = (x**2 + y**2)\n",
        "answer = integrate(f, (x, -2, 2),\n",
        "(y, 0, 4))\n",
        "print(answer)"
      ],
      "metadata": {
        "colab": {
          "base_uri": "https://localhost:8080/"
        },
        "id": "zk5m_wkOfXEt",
        "outputId": "82e3b3f6-0d19-4705-a5de-595510a66bd0"
      },
      "execution_count": null,
      "outputs": [
        {
          "output_type": "stream",
          "name": "stdout",
          "text": [
            "320/3\n"
          ]
        }
      ]
    }
  ]
}
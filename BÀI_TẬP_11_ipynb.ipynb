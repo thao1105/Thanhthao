{
  "nbformat": 4,
  "nbformat_minor": 0,
  "metadata": {
    "colab": {
      "provenance": [],
      "authorship_tag": "ABX9TyN+SYADNnFBW3uHALzHHlQn",
      "include_colab_link": true
    },
    "kernelspec": {
      "name": "python3",
      "display_name": "Python 3"
    },
    "language_info": {
      "name": "python"
    }
  },
  "cells": [
    {
      "cell_type": "markdown",
      "metadata": {
        "id": "view-in-github",
        "colab_type": "text"
      },
      "source": [
        "<a href=\"https://colab.research.google.com/github/thao1105/Thanhthao/blob/main/B%C3%80I_T%E1%BA%ACP_11_ipynb.ipynb\" target=\"_parent\"><img src=\"https://colab.research.google.com/assets/colab-badge.svg\" alt=\"Open In Colab\"/></a>"
      ]
    },
    {
      "cell_type": "markdown",
      "source": [
        "1. Giải phương trình"
      ],
      "metadata": {
        "id": "VUxATH-zN8Ho"
      }
    },
    {
      "cell_type": "markdown",
      "source": [
        "Ví dụ "
      ],
      "metadata": {
        "id": "2rFHP8TBQKrO"
      }
    },
    {
      "cell_type": "code",
      "source": [
        "a = int(input(\"a=\"))\n",
        "b = int(input(\"b=\"))"
      ],
      "metadata": {
        "id": "A8tkAQyk4zuB",
        "outputId": "9547e71a-c432-457f-a820-67ba92fe8c1f",
        "colab": {
          "base_uri": "https://localhost:8080/"
        }
      },
      "execution_count": 121,
      "outputs": [
        {
          "name": "stdout",
          "output_type": "stream",
          "text": [
            "a=2\n",
            "b=-6\n"
          ]
        }
      ]
    },
    {
      "cell_type": "code",
      "source": [
        "from sympy import symbols, Eq, solve\n",
        "def phuongtrinh(a,b):\n",
        "  x = symbols('x')\n",
        "  eq = Eq(a*x + b, 0)\n",
        "  answer = solve(eq, x)\n",
        "  print('Nghiệm: ', answer)\n",
        "  return(a,b)"
      ],
      "metadata": {
        "id": "Aurg3oMZQDO4"
      },
      "execution_count": 125,
      "outputs": []
    },
    {
      "cell_type": "code",
      "source": [
        "n = phuongtrinh(a,b)\n",
        "print(n)"
      ],
      "metadata": {
        "id": "wyPtBXGN5aH5",
        "outputId": "1d144a54-8734-4658-ec86-34a2ca5d70a9",
        "colab": {
          "base_uri": "https://localhost:8080/"
        }
      },
      "execution_count": 126,
      "outputs": [
        {
          "output_type": "stream",
          "name": "stdout",
          "text": [
            "Nghiệm:  [3]\n",
            "(2, -6)\n"
          ]
        }
      ]
    },
    {
      "cell_type": "markdown",
      "source": [
        "Câu 1 "
      ],
      "metadata": {
        "id": "N4c8ZG0K4-E3"
      }
    },
    {
      "cell_type": "code",
      "source": [
        "a = int(input(\"a=\"))\n",
        "b = int(input(\"b=\"))"
      ],
      "metadata": {
        "id": "bXNGPCup5j-5",
        "outputId": "babc72e5-93bc-44ba-e6c4-5c47a404a990",
        "colab": {
          "base_uri": "https://localhost:8080/"
        }
      },
      "execution_count": 127,
      "outputs": [
        {
          "name": "stdout",
          "output_type": "stream",
          "text": [
            "a=-2\n",
            "b=5\n"
          ]
        }
      ]
    },
    {
      "cell_type": "code",
      "execution_count": 134,
      "metadata": {
        "id": "Mobe3Z-t4PMa"
      },
      "outputs": [],
      "source": [
        "from sympy import symbols, Eq, solve\n",
        "def phuongtrinh(a,b):\n",
        "  x = symbols('x')\n",
        "  eq = Eq(a*x + b, 0)\n",
        "  answer = solve(eq, x)\n",
        "  print('Nghiệm: ', answer)\n",
        "  return (a,b)"
      ]
    },
    {
      "cell_type": "code",
      "source": [
        "n = phuongtrinh(a,b)\n",
        "print(n)"
      ],
      "metadata": {
        "id": "EVSFDEf-57r5",
        "outputId": "040914d4-c539-4a1e-ab1b-0c217f15e3e6",
        "colab": {
          "base_uri": "https://localhost:8080/"
        }
      },
      "execution_count": 135,
      "outputs": [
        {
          "output_type": "stream",
          "name": "stdout",
          "text": [
            "Nghiệm:  [5/2]\n",
            "(-2, 5)\n"
          ]
        }
      ]
    },
    {
      "cell_type": "markdown",
      "source": [
        "Câu 2"
      ],
      "metadata": {
        "id": "1o7Vmdid5AnR"
      }
    },
    {
      "cell_type": "code",
      "source": [
        "a = int(input(\"a=\"))\n",
        "b = int(input(\"b=\"))"
      ],
      "metadata": {
        "id": "1YT5QHSo6F6o",
        "outputId": "55dbad5e-175a-40ad-b492-7164c9da9d8f",
        "colab": {
          "base_uri": "https://localhost:8080/"
        }
      },
      "execution_count": 136,
      "outputs": [
        {
          "name": "stdout",
          "output_type": "stream",
          "text": [
            "a=5\n",
            "b=-9\n"
          ]
        }
      ]
    },
    {
      "cell_type": "code",
      "source": [
        "from sympy import symbols, Eq, solve\n",
        "def phuongtrinh(a,b):\n",
        "  x = symbols('x')\n",
        "  eq = Eq(a*x + b, 0)\n",
        "  answer = solve(eq, x)\n",
        "  print('Nghiệm: ', answer)\n",
        "  return (a,b)\n",
        "  "
      ],
      "metadata": {
        "id": "08rY84nk4x6E"
      },
      "execution_count": 137,
      "outputs": []
    },
    {
      "cell_type": "code",
      "source": [
        "n = phuongtrinh(a,b)\n",
        "print(n)"
      ],
      "metadata": {
        "id": "BvvcHNaH6asI",
        "outputId": "061d95ec-d253-48b7-c7ae-0dde4814f652",
        "colab": {
          "base_uri": "https://localhost:8080/"
        }
      },
      "execution_count": 138,
      "outputs": [
        {
          "output_type": "stream",
          "name": "stdout",
          "text": [
            "Nghiệm:  [9/5]\n",
            "(5, -9)\n"
          ]
        }
      ]
    },
    {
      "cell_type": "markdown",
      "source": [
        "2. Giải hệ phương trình"
      ],
      "metadata": {
        "id": "-dq4VxUxN92n"
      }
    },
    {
      "cell_type": "markdown",
      "source": [
        "Ví dụ "
      ],
      "metadata": {
        "id": "YoBFQJ8yQlfm"
      }
    },
    {
      "cell_type": "code",
      "source": [
        "a = int(input(\"a=\"))\n",
        "b = int(input(\"b=\"))\n",
        "c = int(input(\"c=\"))\n",
        "d = int(input(\"d=\"))\n",
        "a2 = int(input(\"a2=\"))\n",
        "b2 = int(input(\"b2 =\"))\n",
        "c2 = int(input(\"c2 =\"))\n",
        "d2 = int(input(\"d2=\"))"
      ],
      "metadata": {
        "id": "cykXWDsF-Q4H",
        "outputId": "2fb7666e-aafb-49b4-e6c2-55c107d2d071",
        "colab": {
          "base_uri": "https://localhost:8080/"
        }
      },
      "execution_count": 160,
      "outputs": [
        {
          "name": "stdout",
          "output_type": "stream",
          "text": [
            "a=2\n",
            "b=1\n",
            "c=-1\n",
            "d=0\n",
            "a2=1\n",
            "b2 =1\n",
            "c2 =-5\n",
            "d2-0=0\n"
          ]
        }
      ]
    },
    {
      "cell_type": "code",
      "source": [
        "from sympy import symbols, Eq, solve\n",
        "def phuongtrinh(a,b,c):\n",
        "  x, y = symbols('x y')\n",
        "  eq1 = Eq(a*x + b*y + c , d)\n",
        "  eq2 = Eq(a2*x + b2*y +c2 , d2)\n",
        "  answer = solve((eq1, eq2), (x,y))\n",
        "  print(answer)\n",
        "  return(a,b,c)"
      ],
      "metadata": {
        "id": "43YH3N8r_YfX"
      },
      "execution_count": 161,
      "outputs": []
    },
    {
      "cell_type": "code",
      "source": [
        "n = phuongtrinh(a,b,c)\n",
        "print(n)"
      ],
      "metadata": {
        "id": "mieHi3b0_fj2",
        "outputId": "dffd8092-4d68-40ab-b533-ee262ac0a45b",
        "colab": {
          "base_uri": "https://localhost:8080/"
        }
      },
      "execution_count": 162,
      "outputs": [
        {
          "output_type": "stream",
          "name": "stdout",
          "text": [
            "{x: -4, y: 9}\n",
            "(2, 1, -1)\n"
          ]
        }
      ]
    },
    {
      "cell_type": "markdown",
      "source": [
        "Câu 1"
      ],
      "metadata": {
        "id": "2b9gHguW-RiW"
      }
    },
    {
      "cell_type": "code",
      "source": [
        "a = int(input(\"a=\"))\n",
        "b = int(input(\"b=\"))\n",
        "c = int(input(\"c=\"))\n",
        "a2 = int(input(\"a2=\"))\n",
        "b2 = int(input(\"b2 =\"))\n",
        "c2 = int(input(\"c2 =\"))\n"
      ],
      "metadata": {
        "id": "eeWQunU16e1Y",
        "outputId": "c11a0c40-be42-4ed2-808c-9757b4a268e3",
        "colab": {
          "base_uri": "https://localhost:8080/"
        }
      },
      "execution_count": 139,
      "outputs": [
        {
          "name": "stdout",
          "output_type": "stream",
          "text": [
            "a=1\n",
            "b=-1\n",
            "c=3\n",
            "a2=3\n",
            "b2 =-4\n",
            "c2 =4\n"
          ]
        }
      ]
    },
    {
      "cell_type": "code",
      "source": [
        "from sympy import symbols, Eq, solve\n",
        "def phuongtrinh(a,b):\n",
        "  x, y = symbols('x y')\n",
        "  eq1 = Eq(a*x + b*y , c)\n",
        "  eq2 = Eq(a2*x + b2*y , c2)\n",
        "  answer = solve((eq1, eq2), (x,y))\n",
        "  print(answer)\n",
        "  return(a,b)"
      ],
      "metadata": {
        "id": "hbGJis2xQde-"
      },
      "execution_count": 141,
      "outputs": []
    },
    {
      "cell_type": "code",
      "source": [
        "n = phuongtrinh(a,b)\n",
        "print(n)"
      ],
      "metadata": {
        "id": "I3qsKE007VUA",
        "outputId": "8ab27164-87b9-408a-c25e-ec1ee5d70b78",
        "colab": {
          "base_uri": "https://localhost:8080/"
        }
      },
      "execution_count": 142,
      "outputs": [
        {
          "output_type": "stream",
          "name": "stdout",
          "text": [
            "{x: 8, y: 5}\n",
            "(1, -1)\n"
          ]
        }
      ]
    },
    {
      "cell_type": "markdown",
      "source": [
        "Câu 2"
      ],
      "metadata": {
        "id": "s8NgpTo9OHBw"
      }
    },
    {
      "cell_type": "code",
      "source": [
        "a = int(input(\"a=\"))\n",
        "b = int(input(\"b=\"))\n",
        "c = int(input(\"c=\"))\n",
        "d = int(input(\"d=\"))\n",
        "a2 = int(input(\"a2=\"))\n",
        "b2 = int(input(\"b2 =\"))\n",
        "c2 = int(input(\"c2 =\"))\n",
        "d2 = int(input(\"d2=\"))\n",
        "a3 = int(input(\"a3=\"))\n",
        "b3  = int(input(\"b3=\"))\n",
        "c3 = int(input(\"c3=\"))\n",
        "d3= int(input(\"d3=\"))"
      ],
      "metadata": {
        "id": "r964S8WR7eLl",
        "outputId": "6ed863ae-9e62-40ca-8156-75a0808e44b0",
        "colab": {
          "base_uri": "https://localhost:8080/"
        }
      },
      "execution_count": 144,
      "outputs": [
        {
          "name": "stdout",
          "output_type": "stream",
          "text": [
            "a=1\n",
            "b=-1\n",
            "c=2\n",
            "d=4\n",
            "a2=2\n",
            "b2 =1\n",
            "c2 =-1\n",
            "d2=-1\n",
            "a3=1\n",
            "b3=1\n",
            "c3=1\n",
            "d3=5\n"
          ]
        }
      ]
    },
    {
      "cell_type": "code",
      "source": [
        "from sympy import symbols, Eq, solve\n",
        "def phuongtrinh(a,b,c):\n",
        "  x, y, z = symbols('x y z')\n",
        "  eq1 = Eq(a*x + b*y + c*z , d)\n",
        "  eq2 = Eq(a2*x + b2*y + c2*z , d2 )\n",
        "  eq3 = Eq(a3*x + b3*y + c3*z , d3)\n",
        "  answer = solve((eq1, eq2, eq3), (x,y,z))\n",
        "  print(answer)\n",
        "  return (a,b,c)"
      ],
      "metadata": {
        "id": "CHulxNHm5jOn"
      },
      "execution_count": 148,
      "outputs": []
    },
    {
      "cell_type": "code",
      "source": [
        "n = phuongtrinh(a,b,c)\n",
        "print(n)"
      ],
      "metadata": {
        "id": "N9NtI6AJ8tgf",
        "outputId": "10a1b6d9-1528-469c-80e4-10400a778eb0",
        "colab": {
          "base_uri": "https://localhost:8080/"
        }
      },
      "execution_count": 149,
      "outputs": [
        {
          "output_type": "stream",
          "name": "stdout",
          "text": [
            "{x: 0, y: 2, z: 3}\n",
            "(1, -1, 2)\n"
          ]
        }
      ]
    },
    {
      "cell_type": "markdown",
      "source": [
        "3. Tính đạo hàm"
      ],
      "metadata": {
        "id": "4gQn2l8IOIHH"
      }
    },
    {
      "cell_type": "markdown",
      "source": [
        "Ví dụ "
      ],
      "metadata": {
        "id": "TGYTXBQ5QorP"
      }
    },
    {
      "cell_type": "code",
      "source": [
        "from sympy import *\n",
        "x = symbols('x')\n",
        "f = sin(x)/x\n",
        "answer = limit(f, x, 0)\n",
        "print('Kết quả giới hạn: ', answer)"
      ],
      "metadata": {
        "colab": {
          "base_uri": "https://localhost:8080/"
        },
        "id": "f_tsff7tQptv",
        "outputId": "72eb82b1-48e9-445c-9354-fb72708a2390"
      },
      "execution_count": null,
      "outputs": [
        {
          "output_type": "stream",
          "name": "stdout",
          "text": [
            "Kết quả giới hạn:  1\n"
          ]
        }
      ]
    },
    {
      "cell_type": "code",
      "source": [
        "from sympy import *\n",
        "x = symbols('x')\n",
        "f = sin(x)\n",
        "answer = diff(f, x)\n",
        "print(answer)"
      ],
      "metadata": {
        "colab": {
          "base_uri": "https://localhost:8080/"
        },
        "id": "ywoklCneRDOn",
        "outputId": "ceaaed2e-f6c1-4a7e-c27b-a4fdc8c6a58d"
      },
      "execution_count": null,
      "outputs": [
        {
          "output_type": "stream",
          "name": "stdout",
          "text": [
            "cos(x)\n"
          ]
        }
      ]
    },
    {
      "cell_type": "markdown",
      "source": [
        "Bài 3.1 "
      ],
      "metadata": {
        "id": "NjgdZ4-SOteh"
      }
    },
    {
      "cell_type": "code",
      "source": [
        "a = int(input(\"a=\"))\n",
        "b = int(input(\"b=\"))"
      ],
      "metadata": {
        "id": "Pz-Z8MlBDPWG",
        "outputId": "28f41921-3b9a-4257-8d89-ff2a69079526",
        "colab": {
          "base_uri": "https://localhost:8080/"
        }
      },
      "execution_count": 163,
      "outputs": [
        {
          "name": "stdout",
          "output_type": "stream",
          "text": [
            "a=8\n",
            "b=2\n"
          ]
        }
      ]
    },
    {
      "cell_type": "code",
      "source": [
        "from sympy import *\n",
        "def tinhgioihan(a,b):\n",
        "  x = symbols('x')\n",
        "  f = (x-a)/(x-b)\n",
        "  answer = limit(f, x, 2)\n",
        "  print('Kết quả giới hạn: ', answer)\n",
        "  return(a,b)"
      ],
      "metadata": {
        "id": "n54rPjlJ6sIB"
      },
      "execution_count": 165,
      "outputs": []
    },
    {
      "cell_type": "code",
      "source": [
        "n = tinhgioihan(a,b)\n",
        "print(n)"
      ],
      "metadata": {
        "id": "CygX1lSED3oF",
        "outputId": "51b83005-dc52-4ce8-d2f7-e5fd87c4a932",
        "colab": {
          "base_uri": "https://localhost:8080/"
        }
      },
      "execution_count": 167,
      "outputs": [
        {
          "output_type": "stream",
          "name": "stdout",
          "text": [
            "Kết quả giới hạn:  -oo\n",
            "(8, 2)\n"
          ]
        }
      ]
    },
    {
      "cell_type": "markdown",
      "source": [
        "Bài 3.2 "
      ],
      "metadata": {
        "id": "EIpgGyObOyhP"
      }
    },
    {
      "cell_type": "code",
      "source": [
        "a = int(input(\"a=\"))\n"
      ],
      "metadata": {
        "id": "lEARbwBTEYEF",
        "outputId": "3cc6c510-393d-49bd-9f78-4f91af26f019",
        "colab": {
          "base_uri": "https://localhost:8080/"
        }
      },
      "execution_count": 169,
      "outputs": [
        {
          "name": "stdout",
          "output_type": "stream",
          "text": [
            "a=1\n"
          ]
        }
      ]
    },
    {
      "cell_type": "code",
      "source": [
        "from sympy import *\n",
        "def tinhgioihan(a):\n",
        "  x = symbols('x')\n",
        "  f = (a - cos(x))/sin(x)\n",
        "  answer = limit(f, x, 0)\n",
        "  print('Kết quả giới hạn: ', answer)\n",
        "  return(a)"
      ],
      "metadata": {
        "id": "O4XNNtu2FjMd"
      },
      "execution_count": 170,
      "outputs": []
    },
    {
      "cell_type": "code",
      "source": [
        "n = tinhgioihan(a)\n",
        "print(n)"
      ],
      "metadata": {
        "id": "4F73T-nfE4RF",
        "outputId": "68903ddf-9830-45ee-f186-024f8428067d",
        "colab": {
          "base_uri": "https://localhost:8080/"
        }
      },
      "execution_count": 172,
      "outputs": [
        {
          "output_type": "stream",
          "name": "stdout",
          "text": [
            "Kết quả giới hạn:  0\n",
            "1\n"
          ]
        }
      ]
    },
    {
      "cell_type": "markdown",
      "source": [
        "Bài 3.3"
      ],
      "metadata": {
        "id": "FPcHVP8BO0A3"
      }
    },
    {
      "cell_type": "code",
      "source": [],
      "metadata": {
        "id": "kjLQFGEfE19G"
      },
      "execution_count": null,
      "outputs": []
    },
    {
      "cell_type": "code",
      "source": [
        "from sympy import *\n",
        "x = symbols('x')\n",
        "f= (3*x**2 + 6*x - 8)\n",
        "answer = diff(f, x)\n",
        "print(answer)"
      ],
      "metadata": {
        "colab": {
          "base_uri": "https://localhost:8080/"
        },
        "id": "E8hJ_6c1O4nm",
        "outputId": "5d437cee-b3a6-40f1-848a-002612af6892"
      },
      "execution_count": null,
      "outputs": [
        {
          "output_type": "stream",
          "name": "stdout",
          "text": [
            "6*x + 6\n"
          ]
        }
      ]
    },
    {
      "cell_type": "markdown",
      "source": [
        "Bài 3.4"
      ],
      "metadata": {
        "id": "iCdsc4D2PSYH"
      }
    },
    {
      "cell_type": "code",
      "source": [
        "from sympy import *\n",
        "x = symbols('x')\n",
        "f= tan(x)\n",
        "answer = diff(f, x)\n",
        "print(answer)"
      ],
      "metadata": {
        "colab": {
          "base_uri": "https://localhost:8080/"
        },
        "id": "i73wWW88TCP6",
        "outputId": "5982236e-22be-4b19-a6e5-e4117cb9756a"
      },
      "execution_count": null,
      "outputs": [
        {
          "output_type": "stream",
          "name": "stdout",
          "text": [
            "tan(x)**2 + 1\n"
          ]
        }
      ]
    },
    {
      "cell_type": "markdown",
      "source": [
        "4. Tính tích phân\n"
      ],
      "metadata": {
        "id": "G-udOT6UPT6n"
      }
    },
    {
      "cell_type": "markdown",
      "source": [
        "ví dụ \n"
      ],
      "metadata": {
        "id": "_kSq3kZhQ0OH"
      }
    },
    {
      "cell_type": "code",
      "source": [
        "from sympy import *\n",
        "x = symbols('x')\n",
        "f = cos(x)\n",
        "answer = integrate(f, x)\n",
        "print(answer)"
      ],
      "metadata": {
        "colab": {
          "base_uri": "https://localhost:8080/"
        },
        "id": "PhPMy4jDQ1ee",
        "outputId": "cd28bf74-e91e-45f0-d042-c4bdae3bf1b2"
      },
      "execution_count": null,
      "outputs": [
        {
          "output_type": "stream",
          "name": "stdout",
          "text": [
            "sin(x)\n"
          ]
        }
      ]
    },
    {
      "cell_type": "code",
      "source": [
        "from sympy import *\n",
        "x = symbols('x')\n",
        "f = exp(-x)\n",
        "answer = integrate(f, (x,0, oo))\n",
        "print(answer)"
      ],
      "metadata": {
        "colab": {
          "base_uri": "https://localhost:8080/"
        },
        "id": "3P18S6OkROGW",
        "outputId": "3f58013d-c5f0-4ece-d301-af2998bf3813"
      },
      "execution_count": null,
      "outputs": [
        {
          "output_type": "stream",
          "name": "stdout",
          "text": [
            "1\n"
          ]
        }
      ]
    },
    {
      "cell_type": "code",
      "source": [
        "from sympy import *\n",
        "x, y = symbols('x y')\n",
        "f = exp(-x**2-y**2)\n",
        "answer = integrate(f, (x, -oo, +oo),(y, -oo, +oo))\n",
        "print(answer)"
      ],
      "metadata": {
        "colab": {
          "base_uri": "https://localhost:8080/"
        },
        "id": "_hYx4Zs0RWpw",
        "outputId": "20b6d3d1-d411-495c-dfc6-d679f64c0f1e"
      },
      "execution_count": null,
      "outputs": [
        {
          "output_type": "stream",
          "name": "stdout",
          "text": [
            "pi\n"
          ]
        }
      ]
    },
    {
      "cell_type": "code",
      "source": [
        "from sympy import *\n",
        "x = symbols('x')\n",
        "f = sin(2*x)*sin(7*x)\n",
        "answer = integrate(f, (x,-pi/2, pi/2))\n",
        "print(answer)"
      ],
      "metadata": {
        "colab": {
          "base_uri": "https://localhost:8080/"
        },
        "id": "uhGM8xWaZ0tG",
        "outputId": "df92d55c-355e-4b19-94f8-3c6449355f4b"
      },
      "execution_count": null,
      "outputs": [
        {
          "output_type": "stream",
          "name": "stdout",
          "text": [
            "4/45\n"
          ]
        }
      ]
    },
    {
      "cell_type": "code",
      "source": [
        "from sympy import *\n",
        "x , y= symbols('x y')\n",
        "f = (2*sin(x) - 3*y**3 + 5)\n",
        "answer = integrate(f, x,y)\n",
        "print(answer)\n"
      ],
      "metadata": {
        "colab": {
          "base_uri": "https://localhost:8080/"
        },
        "id": "IbhnU6Bner-t",
        "outputId": "271066cc-b2e2-4be3-edaf-477c55a77d34"
      },
      "execution_count": null,
      "outputs": [
        {
          "output_type": "stream",
          "name": "stdout",
          "text": [
            "-3*x*y**4/4 + y*(5*x - 2*cos(x))\n"
          ]
        }
      ]
    },
    {
      "cell_type": "code",
      "source": [
        "from sympy import *\n",
        "x , y= symbols('x y')\n",
        "f = (x**2 + y**2)\n",
        "answer = integrate(f, (x, -2, 2),\n",
        "(y, 0, 4))\n",
        "print(answer)"
      ],
      "metadata": {
        "colab": {
          "base_uri": "https://localhost:8080/"
        },
        "id": "zk5m_wkOfXEt",
        "outputId": "82e3b3f6-0d19-4705-a5de-595510a66bd0"
      },
      "execution_count": null,
      "outputs": [
        {
          "output_type": "stream",
          "name": "stdout",
          "text": [
            "320/3\n"
          ]
        }
      ]
    }
  ]
}
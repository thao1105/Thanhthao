{
  "nbformat": 4,
  "nbformat_minor": 0,
  "metadata": {
    "colab": {
      "provenance": [],
      "authorship_tag": "ABX9TyPhT3caOuMjhk2Dh03U57Tu",
      "include_colab_link": true
    },
    "kernelspec": {
      "name": "python3",
      "display_name": "Python 3"
    },
    "language_info": {
      "name": "python"
    }
  },
  "cells": [
    {
      "cell_type": "markdown",
      "metadata": {
        "id": "view-in-github",
        "colab_type": "text"
      },
      "source": [
        "<a href=\"https://colab.research.google.com/github/thao1105/Thanhthao/blob/main/B%C3%80I_T%E1%BA%ACP_11_ipynb.ipynb\" target=\"_parent\"><img src=\"https://colab.research.google.com/assets/colab-badge.svg\" alt=\"Open In Colab\"/></a>"
      ]
    },
    {
      "cell_type": "markdown",
      "source": [
        "1. Giải phương trình"
      ],
      "metadata": {
        "id": "VUxATH-zN8Ho"
      }
    },
    {
      "cell_type": "markdown",
      "source": [
        "Ví dụ "
      ],
      "metadata": {
        "id": "2rFHP8TBQKrO"
      }
    },
    {
      "cell_type": "code",
      "source": [
        "a = int(input(\"a=\"))\n",
        "b = int(input(\"b=\"))"
      ],
      "metadata": {
        "id": "A8tkAQyk4zuB",
        "outputId": "9547e71a-c432-457f-a820-67ba92fe8c1f",
        "colab": {
          "base_uri": "https://localhost:8080/"
        }
      },
      "execution_count": null,
      "outputs": [
        {
          "name": "stdout",
          "output_type": "stream",
          "text": [
            "a=2\n",
            "b=-6\n"
          ]
        }
      ]
    },
    {
      "cell_type": "code",
      "source": [
        "from sympy import symbols, Eq, solve\n",
        "def phuongtrinh(a,b):\n",
        "  x = symbols('x')\n",
        "  eq = Eq(a*x + b, 0)\n",
        "  answer = solve(eq, x)\n",
        "  print('Nghiệm: ', answer)\n",
        "  return(a,b)"
      ],
      "metadata": {
        "id": "Aurg3oMZQDO4"
      },
      "execution_count": null,
      "outputs": []
    },
    {
      "cell_type": "code",
      "source": [
        "n = phuongtrinh(a,b)\n",
        "print(n)"
      ],
      "metadata": {
        "id": "wyPtBXGN5aH5",
        "outputId": "1d144a54-8734-4658-ec86-34a2ca5d70a9",
        "colab": {
          "base_uri": "https://localhost:8080/"
        }
      },
      "execution_count": null,
      "outputs": [
        {
          "output_type": "stream",
          "name": "stdout",
          "text": [
            "Nghiệm:  [3]\n",
            "(2, -6)\n"
          ]
        }
      ]
    },
    {
      "cell_type": "markdown",
      "source": [
        "Câu 1 "
      ],
      "metadata": {
        "id": "N4c8ZG0K4-E3"
      }
    },
    {
      "cell_type": "code",
      "source": [
        "a = int(input(\"a=\"))\n",
        "b = int(input(\"b=\"))"
      ],
      "metadata": {
        "id": "bXNGPCup5j-5",
        "outputId": "babc72e5-93bc-44ba-e6c4-5c47a404a990",
        "colab": {
          "base_uri": "https://localhost:8080/"
        }
      },
      "execution_count": null,
      "outputs": [
        {
          "name": "stdout",
          "output_type": "stream",
          "text": [
            "a=-2\n",
            "b=5\n"
          ]
        }
      ]
    },
    {
      "cell_type": "code",
      "execution_count": null,
      "metadata": {
        "id": "Mobe3Z-t4PMa"
      },
      "outputs": [],
      "source": [
        "from sympy import symbols, Eq, solve\n",
        "def phuongtrinh(a,b):\n",
        "  x = symbols('x')\n",
        "  eq = Eq(a*x + b, 0)\n",
        "  answer = solve(eq, x)\n",
        "  print('Nghiệm: ', answer)\n",
        "  return (a,b)"
      ]
    },
    {
      "cell_type": "code",
      "source": [
        "n = phuongtrinh(a,b)\n",
        "print(n)"
      ],
      "metadata": {
        "id": "EVSFDEf-57r5",
        "outputId": "040914d4-c539-4a1e-ab1b-0c217f15e3e6",
        "colab": {
          "base_uri": "https://localhost:8080/"
        }
      },
      "execution_count": null,
      "outputs": [
        {
          "output_type": "stream",
          "name": "stdout",
          "text": [
            "Nghiệm:  [5/2]\n",
            "(-2, 5)\n"
          ]
        }
      ]
    },
    {
      "cell_type": "markdown",
      "source": [
        "Câu 2"
      ],
      "metadata": {
        "id": "1o7Vmdid5AnR"
      }
    },
    {
      "cell_type": "code",
      "source": [
        "a = int(input(\"a=\"))\n",
        "b = int(input(\"b=\"))"
      ],
      "metadata": {
        "id": "1YT5QHSo6F6o",
        "outputId": "55dbad5e-175a-40ad-b492-7164c9da9d8f",
        "colab": {
          "base_uri": "https://localhost:8080/"
        }
      },
      "execution_count": null,
      "outputs": [
        {
          "name": "stdout",
          "output_type": "stream",
          "text": [
            "a=5\n",
            "b=-9\n"
          ]
        }
      ]
    },
    {
      "cell_type": "code",
      "source": [
        "from sympy import symbols, Eq, solve\n",
        "def phuongtrinh(a,b):\n",
        "  x = symbols('x')\n",
        "  eq = Eq(a*x + b, 0)\n",
        "  answer = solve(eq, x)\n",
        "  print('Nghiệm: ', answer)\n",
        "  return (a,b)\n",
        "  "
      ],
      "metadata": {
        "id": "08rY84nk4x6E"
      },
      "execution_count": null,
      "outputs": []
    },
    {
      "cell_type": "code",
      "source": [
        "n = phuongtrinh(a,b)\n",
        "print(n)"
      ],
      "metadata": {
        "id": "BvvcHNaH6asI",
        "outputId": "061d95ec-d253-48b7-c7ae-0dde4814f652",
        "colab": {
          "base_uri": "https://localhost:8080/"
        }
      },
      "execution_count": null,
      "outputs": [
        {
          "output_type": "stream",
          "name": "stdout",
          "text": [
            "Nghiệm:  [9/5]\n",
            "(5, -9)\n"
          ]
        }
      ]
    },
    {
      "cell_type": "markdown",
      "source": [
        "2. Giải hệ phương trình"
      ],
      "metadata": {
        "id": "-dq4VxUxN92n"
      }
    },
    {
      "cell_type": "markdown",
      "source": [
        "Ví dụ "
      ],
      "metadata": {
        "id": "YoBFQJ8yQlfm"
      }
    },
    {
      "cell_type": "code",
      "source": [
        "a = int(input(\"a=\"))\n",
        "b = int(input(\"b=\"))\n",
        "c = int(input(\"c=\"))\n",
        "d = int(input(\"d=\"))\n",
        "a2 = int(input(\"a2=\"))\n",
        "b2 = int(input(\"b2 =\"))\n",
        "c2 = int(input(\"c2 =\"))\n",
        "d2 = int(input(\"d2=\"))"
      ],
      "metadata": {
        "id": "cykXWDsF-Q4H",
        "outputId": "2fb7666e-aafb-49b4-e6c2-55c107d2d071",
        "colab": {
          "base_uri": "https://localhost:8080/"
        }
      },
      "execution_count": null,
      "outputs": [
        {
          "name": "stdout",
          "output_type": "stream",
          "text": [
            "a=2\n",
            "b=1\n",
            "c=-1\n",
            "d=0\n",
            "a2=1\n",
            "b2 =1\n",
            "c2 =-5\n",
            "d2-0=0\n"
          ]
        }
      ]
    },
    {
      "cell_type": "code",
      "source": [
        "from sympy import symbols, Eq, solve\n",
        "def phuongtrinh(a,b,c):\n",
        "  x, y = symbols('x y')\n",
        "  eq1 = Eq(a*x + b*y + c , d)\n",
        "  eq2 = Eq(a2*x + b2*y +c2 , d2)\n",
        "  answer = solve((eq1, eq2), (x,y))\n",
        "  print(answer)\n",
        "  return(a,b,c)"
      ],
      "metadata": {
        "id": "43YH3N8r_YfX"
      },
      "execution_count": null,
      "outputs": []
    },
    {
      "cell_type": "code",
      "source": [
        "n = phuongtrinh(a,b,c)\n",
        "print(n)"
      ],
      "metadata": {
        "id": "mieHi3b0_fj2",
        "outputId": "dffd8092-4d68-40ab-b533-ee262ac0a45b",
        "colab": {
          "base_uri": "https://localhost:8080/"
        }
      },
      "execution_count": null,
      "outputs": [
        {
          "output_type": "stream",
          "name": "stdout",
          "text": [
            "{x: -4, y: 9}\n",
            "(2, 1, -1)\n"
          ]
        }
      ]
    },
    {
      "cell_type": "markdown",
      "source": [
        "Câu 1"
      ],
      "metadata": {
        "id": "2b9gHguW-RiW"
      }
    },
    {
      "cell_type": "code",
      "source": [
        "a = int(input(\"a=\"))\n",
        "b = int(input(\"b=\"))\n",
        "c = int(input(\"c=\"))\n",
        "a2 = int(input(\"a2=\"))\n",
        "b2 = int(input(\"b2 =\"))\n",
        "c2 = int(input(\"c2 =\"))\n"
      ],
      "metadata": {
        "id": "eeWQunU16e1Y",
        "outputId": "c11a0c40-be42-4ed2-808c-9757b4a268e3",
        "colab": {
          "base_uri": "https://localhost:8080/"
        }
      },
      "execution_count": null,
      "outputs": [
        {
          "name": "stdout",
          "output_type": "stream",
          "text": [
            "a=1\n",
            "b=-1\n",
            "c=3\n",
            "a2=3\n",
            "b2 =-4\n",
            "c2 =4\n"
          ]
        }
      ]
    },
    {
      "cell_type": "code",
      "source": [
        "from sympy import symbols, Eq, solve\n",
        "def phuongtrinh(a,b):\n",
        "  x, y = symbols('x y')\n",
        "  eq1 = Eq(a*x + b*y , c)\n",
        "  eq2 = Eq(a2*x + b2*y , c2)\n",
        "  answer = solve((eq1, eq2), (x,y))\n",
        "  print(answer)\n",
        "  return(a,b)"
      ],
      "metadata": {
        "id": "hbGJis2xQde-"
      },
      "execution_count": null,
      "outputs": []
    },
    {
      "cell_type": "code",
      "source": [
        "n = phuongtrinh(a,b)\n",
        "print(n)"
      ],
      "metadata": {
        "id": "I3qsKE007VUA",
        "outputId": "8ab27164-87b9-408a-c25e-ec1ee5d70b78",
        "colab": {
          "base_uri": "https://localhost:8080/"
        }
      },
      "execution_count": null,
      "outputs": [
        {
          "output_type": "stream",
          "name": "stdout",
          "text": [
            "{x: 8, y: 5}\n",
            "(1, -1)\n"
          ]
        }
      ]
    },
    {
      "cell_type": "markdown",
      "source": [
        "Câu 2"
      ],
      "metadata": {
        "id": "s8NgpTo9OHBw"
      }
    },
    {
      "cell_type": "code",
      "source": [
        "a = int(input(\"a=\"))\n",
        "b = int(input(\"b=\"))\n",
        "c = int(input(\"c=\"))\n",
        "d = int(input(\"d=\"))\n",
        "a2 = int(input(\"a2=\"))\n",
        "b2 = int(input(\"b2 =\"))\n",
        "c2 = int(input(\"c2 =\"))\n",
        "d2 = int(input(\"d2=\"))\n",
        "a3 = int(input(\"a3=\"))\n",
        "b3  = int(input(\"b3=\"))\n",
        "c3 = int(input(\"c3=\"))\n",
        "d3= int(input(\"d3=\"))"
      ],
      "metadata": {
        "id": "r964S8WR7eLl",
        "outputId": "6ed863ae-9e62-40ca-8156-75a0808e44b0",
        "colab": {
          "base_uri": "https://localhost:8080/"
        }
      },
      "execution_count": null,
      "outputs": [
        {
          "name": "stdout",
          "output_type": "stream",
          "text": [
            "a=1\n",
            "b=-1\n",
            "c=2\n",
            "d=4\n",
            "a2=2\n",
            "b2 =1\n",
            "c2 =-1\n",
            "d2=-1\n",
            "a3=1\n",
            "b3=1\n",
            "c3=1\n",
            "d3=5\n"
          ]
        }
      ]
    },
    {
      "cell_type": "code",
      "source": [
        "from sympy import symbols, Eq, solve\n",
        "def phuongtrinh(a,b,c):\n",
        "  x, y, z = symbols('x y z')\n",
        "  eq1 = Eq(a*x + b*y + c*z , d)\n",
        "  eq2 = Eq(a2*x + b2*y + c2*z , d2 )\n",
        "  eq3 = Eq(a3*x + b3*y + c3*z , d3)\n",
        "  answer = solve((eq1, eq2, eq3), (x,y,z))\n",
        "  print(answer)\n",
        "  return (a,b,c)"
      ],
      "metadata": {
        "id": "CHulxNHm5jOn"
      },
      "execution_count": null,
      "outputs": []
    },
    {
      "cell_type": "code",
      "source": [
        "n = phuongtrinh(a,b,c)\n",
        "print(n)"
      ],
      "metadata": {
        "id": "N9NtI6AJ8tgf",
        "outputId": "10a1b6d9-1528-469c-80e4-10400a778eb0",
        "colab": {
          "base_uri": "https://localhost:8080/"
        }
      },
      "execution_count": null,
      "outputs": [
        {
          "output_type": "stream",
          "name": "stdout",
          "text": [
            "{x: 0, y: 2, z: 3}\n",
            "(1, -1, 2)\n"
          ]
        }
      ]
    },
    {
      "cell_type": "markdown",
      "source": [
        "3. Tính đạo hàm"
      ],
      "metadata": {
        "id": "4gQn2l8IOIHH"
      }
    },
    {
      "cell_type": "markdown",
      "source": [
        "Ví dụ "
      ],
      "metadata": {
        "id": "TGYTXBQ5QorP"
      }
    },
    {
      "cell_type": "code",
      "source": [
        "from sympy import *\n",
        "x = symbols('x')\n",
        "f = sin(x)/x\n",
        "answer = limit(f, x, 0)\n",
        "print('Kết quả giới hạn: ', answer)"
      ],
      "metadata": {
        "colab": {
          "base_uri": "https://localhost:8080/"
        },
        "id": "f_tsff7tQptv",
        "outputId": "72eb82b1-48e9-445c-9354-fb72708a2390"
      },
      "execution_count": null,
      "outputs": [
        {
          "output_type": "stream",
          "name": "stdout",
          "text": [
            "Kết quả giới hạn:  1\n"
          ]
        }
      ]
    },
    {
      "cell_type": "code",
      "source": [
        "from sympy import *\n",
        "x = symbols('x')\n",
        "f = sin(x)\n",
        "answer = diff(f, x)\n",
        "print(answer)"
      ],
      "metadata": {
        "colab": {
          "base_uri": "https://localhost:8080/"
        },
        "id": "ywoklCneRDOn",
        "outputId": "ceaaed2e-f6c1-4a7e-c27b-a4fdc8c6a58d"
      },
      "execution_count": null,
      "outputs": [
        {
          "output_type": "stream",
          "name": "stdout",
          "text": [
            "cos(x)\n"
          ]
        }
      ]
    },
    {
      "cell_type": "markdown",
      "source": [
        "Bài 3.1 "
      ],
      "metadata": {
        "id": "NjgdZ4-SOteh"
      }
    },
    {
      "cell_type": "code",
      "source": [
        "a = int(input(\"a=\"))\n",
        "b = int(input(\"b=\"))"
      ],
      "metadata": {
        "id": "Pz-Z8MlBDPWG",
        "outputId": "28f41921-3b9a-4257-8d89-ff2a69079526",
        "colab": {
          "base_uri": "https://localhost:8080/"
        }
      },
      "execution_count": null,
      "outputs": [
        {
          "name": "stdout",
          "output_type": "stream",
          "text": [
            "a=8\n",
            "b=2\n"
          ]
        }
      ]
    },
    {
      "cell_type": "code",
      "source": [
        "from sympy import *\n",
        "def tinhgioihan(a,b):\n",
        "  x = symbols('x')\n",
        "  f = (x-a)/(x-b)\n",
        "  answer = limit(f, x, 2)\n",
        "  print('Kết quả giới hạn: ', answer)\n",
        "  return(a,b)"
      ],
      "metadata": {
        "id": "n54rPjlJ6sIB"
      },
      "execution_count": null,
      "outputs": []
    },
    {
      "cell_type": "code",
      "source": [
        "n = tinhgioihan(a,b)\n",
        "print(n)"
      ],
      "metadata": {
        "id": "CygX1lSED3oF",
        "outputId": "51b83005-dc52-4ce8-d2f7-e5fd87c4a932",
        "colab": {
          "base_uri": "https://localhost:8080/"
        }
      },
      "execution_count": null,
      "outputs": [
        {
          "output_type": "stream",
          "name": "stdout",
          "text": [
            "Kết quả giới hạn:  -oo\n",
            "(8, 2)\n"
          ]
        }
      ]
    },
    {
      "cell_type": "markdown",
      "source": [
        "Bài 3.2 "
      ],
      "metadata": {
        "id": "EIpgGyObOyhP"
      }
    },
    {
      "cell_type": "code",
      "source": [
        "a = int(input(\"a=\"))\n"
      ],
      "metadata": {
        "id": "lEARbwBTEYEF",
        "outputId": "46aa55a8-a5fc-43f8-b306-b06b80136b7b",
        "colab": {
          "base_uri": "https://localhost:8080/"
        }
      },
      "execution_count": 247,
      "outputs": [
        {
          "name": "stdout",
          "output_type": "stream",
          "text": [
            "a=1\n"
          ]
        }
      ]
    },
    {
      "cell_type": "code",
      "source": [
        "from sympy import *\n",
        "def tinhgioihan(a):\n",
        "  x = symbols('x')\n",
        "  f = (a - cos(x))/sin(x)\n",
        "  answer = limit(f, x, 0)\n",
        "  print('Kết quả giới hạn: ', answer)\n",
        "  return(a)"
      ],
      "metadata": {
        "id": "O4XNNtu2FjMd"
      },
      "execution_count": 248,
      "outputs": []
    },
    {
      "cell_type": "code",
      "source": [
        "n = tinhgioihan(a)\n"
      ],
      "metadata": {
        "id": "4F73T-nfE4RF",
        "outputId": "4d186a39-4c54-4a31-be99-259dddff2f92",
        "colab": {
          "base_uri": "https://localhost:8080/"
        }
      },
      "execution_count": 249,
      "outputs": [
        {
          "output_type": "stream",
          "name": "stdout",
          "text": [
            "Kết quả giới hạn:  0\n"
          ]
        }
      ]
    },
    {
      "cell_type": "markdown",
      "source": [
        "Bài 3.3"
      ],
      "metadata": {
        "id": "FPcHVP8BO0A3"
      }
    },
    {
      "cell_type": "code",
      "source": [
        "a = int(input(\"a= \"))\n",
        "b = int(input(\"b= \"))\n",
        "c = int(input(\"c= \"))"
      ],
      "metadata": {
        "id": "kjLQFGEfE19G",
        "colab": {
          "base_uri": "https://localhost:8080/"
        },
        "outputId": "c02be7d3-83e5-4545-d490-e95fc551d355"
      },
      "execution_count": 176,
      "outputs": [
        {
          "name": "stdout",
          "output_type": "stream",
          "text": [
            "a=3\n",
            "b=6\n",
            "c=-8\n"
          ]
        }
      ]
    },
    {
      "cell_type": "code",
      "source": [
        "from sympy import *\n",
        "def tinhdaoham(a,b,c):\n",
        "  x = symbols('x')\n",
        "  f= (a*x**2 + b*x + c)\n",
        "  answer = diff(f, x)\n",
        "  print(answer)\n",
        "  return(a,b,c)"
      ],
      "metadata": {
        "id": "E8hJ_6c1O4nm"
      },
      "execution_count": 183,
      "outputs": []
    },
    {
      "cell_type": "code",
      "source": [
        "n = tinhdaoham(a,b,c)\n",
        "print(n)"
      ],
      "metadata": {
        "colab": {
          "base_uri": "https://localhost:8080/"
        },
        "id": "VAJRcDuyRjio",
        "outputId": "4b622e9f-b1d7-4216-f9a7-70ce6b3d682f"
      },
      "execution_count": 184,
      "outputs": [
        {
          "output_type": "stream",
          "name": "stdout",
          "text": [
            "6*x + 6\n",
            "(3, 6, -8)\n"
          ]
        }
      ]
    },
    {
      "cell_type": "markdown",
      "source": [
        "Bài 3.4"
      ],
      "metadata": {
        "id": "iCdsc4D2PSYH"
      }
    },
    {
      "cell_type": "code",
      "source": [
        "from sympy import *\n",
        "def tinhdaoham():\n",
        "  x = symbols('x')\n",
        "  f= tan(x)\n",
        "  answer = diff(f, x)\n",
        "  print(answer)\n",
        "  return()"
      ],
      "metadata": {
        "id": "i73wWW88TCP6"
      },
      "execution_count": 238,
      "outputs": []
    },
    {
      "cell_type": "code",
      "source": [
        "n = tinhdaoham()\n"
      ],
      "metadata": {
        "colab": {
          "base_uri": "https://localhost:8080/"
        },
        "id": "Der8TmyAS3qk",
        "outputId": "c3c4ac78-098e-4f52-fbfd-2f42e3e0d809"
      },
      "execution_count": 239,
      "outputs": [
        {
          "output_type": "stream",
          "name": "stdout",
          "text": [
            "tan(x)**2 + 1\n"
          ]
        }
      ]
    },
    {
      "cell_type": "markdown",
      "source": [
        "4. Tính tích phân\n"
      ],
      "metadata": {
        "id": "G-udOT6UPT6n"
      }
    },
    {
      "cell_type": "markdown",
      "source": [
        "ví dụ \n"
      ],
      "metadata": {
        "id": "_kSq3kZhQ0OH"
      }
    },
    {
      "cell_type": "code",
      "source": [
        "from sympy import *\n",
        "def tichphankhonggioihan():\n",
        "  x = symbols('x')\n",
        "  f = cos(x)\n",
        "  answer = integrate(f, x)\n",
        "  print(answer)\n",
        "  return()"
      ],
      "metadata": {
        "id": "PhPMy4jDQ1ee"
      },
      "execution_count": 236,
      "outputs": []
    },
    {
      "cell_type": "code",
      "source": [
        "n =tichphankhonggioihan()\n"
      ],
      "metadata": {
        "colab": {
          "base_uri": "https://localhost:8080/"
        },
        "id": "EZQR0HdbUApO",
        "outputId": "6a2ea6a4-0e38-49ef-82f4-0c687b271db7"
      },
      "execution_count": 237,
      "outputs": [
        {
          "output_type": "stream",
          "name": "stdout",
          "text": [
            "sin(x)\n"
          ]
        }
      ]
    },
    {
      "cell_type": "code",
      "source": [
        "from sympy import *\n",
        "def tichphancogioihan():\n",
        "  x = symbols('x')\n",
        "  f = exp(-x)\n",
        "  answer = integrate(f, (x,0, oo))\n",
        "  print(answer)\n",
        "  return()"
      ],
      "metadata": {
        "id": "3P18S6OkROGW"
      },
      "execution_count": 234,
      "outputs": []
    },
    {
      "cell_type": "code",
      "source": [
        "n =tichphancogioihan()\n"
      ],
      "metadata": {
        "colab": {
          "base_uri": "https://localhost:8080/"
        },
        "id": "wrAIVssIU2Bu",
        "outputId": "f71b00c2-a4a6-4fef-aee6-e8209488c36a"
      },
      "execution_count": 235,
      "outputs": [
        {
          "output_type": "stream",
          "name": "stdout",
          "text": [
            "1\n"
          ]
        }
      ]
    },
    {
      "cell_type": "code",
      "source": [
        "from sympy import *\n",
        "def tichphan():\n",
        "  x, y = symbols('x y')\n",
        "  f = exp(-x**2-y**2)\n",
        "  answer = integrate(f, (x, -oo, +oo),(y, -oo, +oo))\n",
        "  print(answer)\n",
        "  return()"
      ],
      "metadata": {
        "id": "_hYx4Zs0RWpw"
      },
      "execution_count": 232,
      "outputs": []
    },
    {
      "cell_type": "code",
      "source": [
        "n =tichphan()\n"
      ],
      "metadata": {
        "colab": {
          "base_uri": "https://localhost:8080/"
        },
        "id": "FcWms9DVVU5B",
        "outputId": "ef364316-5a7e-4953-ddb6-22db5d18b353"
      },
      "execution_count": 233,
      "outputs": [
        {
          "output_type": "stream",
          "name": "stdout",
          "text": [
            "pi\n"
          ]
        }
      ]
    },
    {
      "cell_type": "code",
      "source": [
        "a = int(input(\"a=\"))\n",
        "b = int(input(\"b=\"))"
      ],
      "metadata": {
        "colab": {
          "base_uri": "https://localhost:8080/"
        },
        "id": "5We-L1NUVlhf",
        "outputId": "939b974a-8342-4af6-8415-6ebb3d12d799"
      },
      "execution_count": 208,
      "outputs": [
        {
          "name": "stdout",
          "output_type": "stream",
          "text": [
            "a=2\n",
            "b=7\n"
          ]
        }
      ]
    },
    {
      "cell_type": "code",
      "source": [
        "from sympy import *\n",
        "def tichphan(a,b):\n",
        "  x = symbols('x')\n",
        "  f = sin(a*x)*sin(b*x)\n",
        "  answer = integrate(f, (x,-pi/2, pi/2))\n",
        "  print(answer)\n",
        "  return(a,b)"
      ],
      "metadata": {
        "id": "uhGM8xWaZ0tG"
      },
      "execution_count": 209,
      "outputs": []
    },
    {
      "cell_type": "code",
      "source": [
        "n =tichphan(a,b)\n",
        "print(n)"
      ],
      "metadata": {
        "colab": {
          "base_uri": "https://localhost:8080/"
        },
        "id": "3BnD71fyVxr7",
        "outputId": "821cc195-ed87-4170-e9be-db1c2991a450"
      },
      "execution_count": 211,
      "outputs": [
        {
          "output_type": "stream",
          "name": "stdout",
          "text": [
            "4/45\n",
            "(2, 7)\n"
          ]
        }
      ]
    },
    {
      "cell_type": "code",
      "source": [
        "a = int(input(\"a=\"))\n",
        "b = int(input(\"b=\"))\n",
        "c = int(input(\"c=\"))"
      ],
      "metadata": {
        "colab": {
          "base_uri": "https://localhost:8080/"
        },
        "id": "18ZU6Jb1V8KO",
        "outputId": "77e3fec8-d30a-48b0-ab2e-09305c37c54a"
      },
      "execution_count": 212,
      "outputs": [
        {
          "name": "stdout",
          "output_type": "stream",
          "text": [
            "a=2\n",
            "b=3\n",
            "c=5\n"
          ]
        }
      ]
    },
    {
      "cell_type": "code",
      "source": [
        "from sympy import *\n",
        "def tichphan(a,b,c):\n",
        "  x , y= symbols('x y')\n",
        "  f = (a*sin(x) - b*y**3 + c)\n",
        "  answer = integrate(f, x,y)\n",
        "  print(answer)\n",
        "  return(a,b,c)\n"
      ],
      "metadata": {
        "id": "IbhnU6Bner-t"
      },
      "execution_count": 213,
      "outputs": []
    },
    {
      "cell_type": "code",
      "source": [
        "n =tichphan(a,b,c)\n",
        "print(n)"
      ],
      "metadata": {
        "colab": {
          "base_uri": "https://localhost:8080/"
        },
        "id": "bbKstFIGWVtO",
        "outputId": "a87c8dfe-63d0-4cc2-af37-6d296a668ea7"
      },
      "execution_count": 214,
      "outputs": [
        {
          "output_type": "stream",
          "name": "stdout",
          "text": [
            "-3*x*y**4/4 + y*(5*x - 2*cos(x))\n",
            "(2, 3, 5)\n"
          ]
        }
      ]
    },
    {
      "cell_type": "code",
      "source": [
        "from sympy import *\n",
        "def tichphan():\n",
        "  x , y= symbols('x y')\n",
        "  f = (x**2 + y**2)\n",
        "  answer = integrate(f, (x, -2, 2),\n",
        "  (y, 0, 4))\n",
        "  print(answer)\n",
        "  "
      ],
      "metadata": {
        "id": "zk5m_wkOfXEt"
      },
      "execution_count": 228,
      "outputs": []
    },
    {
      "cell_type": "code",
      "source": [
        "n =tichphan()\n"
      ],
      "metadata": {
        "colab": {
          "base_uri": "https://localhost:8080/"
        },
        "id": "NH2uszdFWlmR",
        "outputId": "421d7b79-4d45-46f3-da49-a9eae52d45c8"
      },
      "execution_count": 230,
      "outputs": [
        {
          "output_type": "stream",
          "name": "stdout",
          "text": [
            "320/3\n"
          ]
        }
      ]
    }
  ]
}
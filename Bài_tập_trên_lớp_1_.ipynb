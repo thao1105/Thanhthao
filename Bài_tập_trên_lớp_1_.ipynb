{
  "nbformat": 4,
  "nbformat_minor": 0,
  "metadata": {
    "colab": {
      "provenance": [],
      "authorship_tag": "ABX9TyMtPH4qtb2pO2mo07bnmNXm",
      "include_colab_link": true
    },
    "kernelspec": {
      "name": "python3",
      "display_name": "Python 3"
    },
    "language_info": {
      "name": "python"
    }
  },
  "cells": [
    {
      "cell_type": "markdown",
      "metadata": {
        "id": "view-in-github",
        "colab_type": "text"
      },
      "source": [
        "<a href=\"https://colab.research.google.com/github/thao1105/Thanhthao/blob/main/B%C3%A0i_t%E1%BA%ADp_tr%C3%AAn_l%E1%BB%9Bp_1_.ipynb\" target=\"_parent\"><img src=\"https://colab.research.google.com/assets/colab-badge.svg\" alt=\"Open In Colab\"/></a>"
      ]
    },
    {
      "cell_type": "markdown",
      "source": [
        "5.1.1"
      ],
      "metadata": {
        "id": "avKpvkNRhq_I"
      }
    },
    {
      "cell_type": "code",
      "execution_count": null,
      "metadata": {
        "colab": {
          "base_uri": "https://localhost:8080/"
        },
        "id": "hWIbYFYVhMDs",
        "outputId": "f0766815-7db7-4287-cf6e-535d52cb49c2"
      },
      "outputs": [
        {
          "output_type": "stream",
          "name": "stdout",
          "text": [
            "[]\n"
          ]
        }
      ],
      "source": [
        "x =[]\n",
        "print(x)\n"
      ]
    },
    {
      "cell_type": "markdown",
      "source": [
        "5.1.2"
      ],
      "metadata": {
        "id": "mTmo3EeDhvwM"
      }
    },
    {
      "cell_type": "code",
      "source": [
        "x.append (18)\n",
        "print(x)\n"
      ],
      "metadata": {
        "colab": {
          "base_uri": "https://localhost:8080/"
        },
        "id": "zH43Oa2rsE8b",
        "outputId": "a832a333-f9d1-4808-bdef-d4ca2a0eacb0"
      },
      "execution_count": null,
      "outputs": [
        {
          "output_type": "stream",
          "name": "stdout",
          "text": [
            "[18]\n"
          ]
        }
      ]
    },
    {
      "cell_type": "markdown",
      "source": [
        "5.1.3"
      ],
      "metadata": {
        "id": "Bno_EQ4Phx4z"
      }
    },
    {
      "cell_type": "code",
      "source": [
        "x.append ('Huế')\n",
        "print(x)"
      ],
      "metadata": {
        "colab": {
          "base_uri": "https://localhost:8080/"
        },
        "id": "dSLdPaB2sPRS",
        "outputId": "d8725fd9-0ef0-4443-f1c5-46d07326adac"
      },
      "execution_count": null,
      "outputs": [
        {
          "output_type": "stream",
          "name": "stdout",
          "text": [
            "[18, 'Huế']\n"
          ]
        }
      ]
    },
    {
      "cell_type": "markdown",
      "source": [
        "5.1.4"
      ],
      "metadata": {
        "id": "S1oAJksLhzOV"
      }
    },
    {
      "cell_type": "code",
      "source": [
        "y = [12, 45, -1, -0.56, \"abc\"]\n",
        "print(y)"
      ],
      "metadata": {
        "colab": {
          "base_uri": "https://localhost:8080/"
        },
        "id": "YnYdmz9msoWj",
        "outputId": "fe1af40f-9499-4ec4-fdea-001f0cf3f058"
      },
      "execution_count": null,
      "outputs": [
        {
          "output_type": "stream",
          "name": "stdout",
          "text": [
            "[12, 45, -1, -0.56, 'abc']\n"
          ]
        }
      ]
    },
    {
      "cell_type": "markdown",
      "source": [
        "5.1.5"
      ],
      "metadata": {
        "id": "xiU1UeVNh0tA"
      }
    },
    {
      "cell_type": "code",
      "source": [
        "x =[]\n",
        "x.append (18)\n",
        "x.append ('Huế')\n",
        "y = [12, 45, -1, -0.56, \"abc\"]\n",
        "x.extend(y)\n",
        "print(x)\n",
        "print(\"phần tử cuối cùng của list x là :\", (x[-1]), \"phần tử đầu tiên của list x là :\",(x[0]))\n",
        "print(\"phần tử đầu tiên đến phần tử thứ 5 của x:\",x[0:5])\n",
        "print(\"phần từ thứ 3 đến cuối cùng của list x là :\",(x[3:]))\n"
      ],
      "metadata": {
        "colab": {
          "base_uri": "https://localhost:8080/"
        },
        "id": "MDzQn4bHs3Sa",
        "outputId": "4858fcbb-c693-4c27-90b0-547279812e1d"
      },
      "execution_count": null,
      "outputs": [
        {
          "output_type": "stream",
          "name": "stdout",
          "text": [
            "[18, 'Huế', 12, 45, -1, -0.56, 'abc']\n",
            "phần tử cuối cùng của list x là : abc phần tử đầu tiên của list x là : 18\n",
            "phần tử đầu tiên đến phần tử thứ 5 của x: [18, 'Huế', 12, 45, -1]\n",
            "phần từ thứ 3 đến cuối cùng của list x là : [45, -1, -0.56, 'abc']\n"
          ]
        }
      ]
    },
    {
      "cell_type": "markdown",
      "source": [
        "5.1.6"
      ],
      "metadata": {
        "id": "3Hc4cGGHh2Ik"
      }
    },
    {
      "cell_type": "code",
      "source": [
        "print(x)"
      ],
      "metadata": {
        "colab": {
          "base_uri": "https://localhost:8080/"
        },
        "id": "iHELC4z4119t",
        "outputId": "53cbd268-5a7c-45d5-a6ed-a3028dd2fcae"
      },
      "execution_count": null,
      "outputs": [
        {
          "output_type": "stream",
          "name": "stdout",
          "text": [
            "[18, 'Huế', 12, 45, -1, -0.56, 'abc']\n"
          ]
        }
      ]
    },
    {
      "cell_type": "markdown",
      "source": [
        "5.1.8"
      ],
      "metadata": {
        "id": "CFfnn3Akidcd"
      }
    },
    {
      "cell_type": "code",
      "source": [
        "print(x[0])\n",
        "print(x[5])"
      ],
      "metadata": {
        "colab": {
          "base_uri": "https://localhost:8080/"
        },
        "id": "45mOqdbrifRC",
        "outputId": "b9fdf8a1-6662-4c4a-c7b9-6bfeeb49601c"
      },
      "execution_count": null,
      "outputs": [
        {
          "output_type": "stream",
          "name": "stdout",
          "text": [
            "18\n",
            "-0.56\n"
          ]
        }
      ]
    },
    {
      "cell_type": "markdown",
      "source": [
        "5.1.9"
      ],
      "metadata": {
        "id": "GJaVBtxwix4r"
      }
    },
    {
      "cell_type": "code",
      "source": [
        "print(x[3])\n",
        "print(x[-1])"
      ],
      "metadata": {
        "colab": {
          "base_uri": "https://localhost:8080/"
        },
        "id": "CU-0jODVizOX",
        "outputId": "e1440ed0-10cc-402c-d33c-f766a157fe72"
      },
      "execution_count": null,
      "outputs": [
        {
          "output_type": "stream",
          "name": "stdout",
          "text": [
            "45\n",
            "abc\n"
          ]
        }
      ]
    }
  ]
}
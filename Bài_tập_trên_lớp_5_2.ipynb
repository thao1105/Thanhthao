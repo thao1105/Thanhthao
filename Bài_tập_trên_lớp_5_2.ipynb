{
  "nbformat": 4,
  "nbformat_minor": 0,
  "metadata": {
    "colab": {
      "provenance": [],
      "authorship_tag": "ABX9TyMVQKFy2qmNmyaTsLk4RX1b",
      "include_colab_link": true
    },
    "kernelspec": {
      "name": "python3",
      "display_name": "Python 3"
    },
    "language_info": {
      "name": "python"
    }
  },
  "cells": [
    {
      "cell_type": "markdown",
      "metadata": {
        "id": "view-in-github",
        "colab_type": "text"
      },
      "source": [
        "<a href=\"https://colab.research.google.com/github/thao1105/Thanhthao/blob/main/B%C3%A0i_t%E1%BA%ADp_tr%C3%AAn_l%E1%BB%9Bp_5_2.ipynb\" target=\"_parent\"><img src=\"https://colab.research.google.com/assets/colab-badge.svg\" alt=\"Open In Colab\"/></a>"
      ]
    },
    {
      "cell_type": "code",
      "execution_count": 26,
      "metadata": {
        "colab": {
          "base_uri": "https://localhost:8080/"
        },
        "id": "T991Fhxy3SNc",
        "outputId": "79677565-4987-4773-caa2-f88d24ccd469"
      },
      "outputs": [
        {
          "output_type": "stream",
          "name": "stdout",
          "text": [
            "(12, 45, -1, -0.56, 'abc', True)\n",
            "phần tử cuối cùng của t là : True phần tử đầu tiên của list t là : 12\n",
            "t[0] = 12\n",
            "t[0:4] = (12, 45, -1, -0.56)\n",
            "t[3:-1] = (-0.56, 'abc')\n"
          ]
        },
        {
          "output_type": "execute_result",
          "data": {
            "text/plain": [
              "[12, 45, -1, -0.56, 'abc', True]"
            ]
          },
          "metadata": {},
          "execution_count": 26
        }
      ],
      "source": [
        "t = (12, 45, -1, -0.56, \"abc\", True)\n",
        "print(t)\n",
        "print(\"phần tử cuối cùng của t là :\", (t[-1]), \"phần tử đầu tiên của list t là :\",(t[0]))\n",
        "print(\"t[0] =\", t[0])\n",
        "print(\"t[0:4] =\",t[0:4])\n",
        "print(\"t[3:-1] =\",t[3:-1])\n",
        "list(t)"
      ]
    }
  ]
}
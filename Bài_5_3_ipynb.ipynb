{
  "nbformat": 4,
  "nbformat_minor": 0,
  "metadata": {
    "colab": {
      "provenance": [],
      "authorship_tag": "ABX9TyMFJL8dV4pR7x5XLBm4BOIu",
      "include_colab_link": true
    },
    "kernelspec": {
      "name": "python3",
      "display_name": "Python 3"
    },
    "language_info": {
      "name": "python"
    }
  },
  "cells": [
    {
      "cell_type": "markdown",
      "metadata": {
        "id": "view-in-github",
        "colab_type": "text"
      },
      "source": [
        "<a href=\"https://colab.research.google.com/github/thao1105/Thanhthao/blob/main/B%C3%A0i_5_3_ipynb.ipynb\" target=\"_parent\"><img src=\"https://colab.research.google.com/assets/colab-badge.svg\" alt=\"Open In Colab\"/></a>"
      ]
    },
    {
      "cell_type": "code",
      "execution_count": 40,
      "metadata": {
        "colab": {
          "base_uri": "https://localhost:8080/"
        },
        "id": "bpsCnTsRsfGd",
        "outputId": "dae8a4de-56ff-499a-a9e4-709f702eebe4"
      },
      "outputs": [
        {
          "output_type": "stream",
          "name": "stdout",
          "text": [
            "{'thể dục', 'tiếng Anh chuyên ngành', 'NNLT Python', 'đại số tuyến tính'}\n",
            "{'NNLT Python', 'Tối ưu hóa', 'Đại số tuyến tính', 'Natural Language Processing', 'Học Máy', 'Học sâu', 'Computer vision', 'Recommender Systems'}\n",
            "Hợp của A và B: {'tiếng Anh chuyên ngành', 'thể dục', 'NNLT Python', 'Tối ưu hóa', 'Đại số tuyến tính', 'Natural Language Processing', 'Học Máy', 'Học sâu', 'Computer vision', 'đại số tuyến tính', 'Recommender Systems'}\n",
            "Giao của A và B: {'NNLT Python'}\n",
            "Hiệu của A và B: {'tiếng Anh chuyên ngành', 'thể dục', 'đại số tuyến tính'}\n",
            "Hiệu của B và A: {'Tối ưu hóa', 'Natural Language Processing', 'Đại số tuyến tính', 'Học Máy', 'Học sâu', 'Computer vision', 'Recommender Systems'}\n",
            "{1, 2, 3, 4, 5, 6, 7}\n"
          ]
        }
      ],
      "source": [
        "A = {\"NNLT Python\", \"đại số tuyến tính\", \"tiếng Anh chuyên ngành\", \"thể dục\"}\n",
        "B = {\"NNLT Python\", \"Đại số tuyến tính\", \"Tối ưu hóa\", \"Học Máy\", \"Học sâu\", \"Computer vision\", \"Natural Language Processing\", \"Recommender Systems\"}\n",
        "print(A)\n",
        "print(B)\n",
        "hop_A_B = A.union(B) \n",
        "print(\"Hợp của A và B:\",hop_A_B)\n",
        "giao_A_B = A & B\n",
        "print(\"Giao của A và B:\",giao_A_B)\n",
        "hieu_hai_tap = A - B \n",
        "print(\"Hiệu của A và B:\",hieu_hai_tap)\n",
        "hieu_hai_tap = B - A \n",
        "print(\"Hiệu của B và A:\",hieu_hai_tap)\n",
        "x = [1, 1, 1, 2, 2, 3, 3 ,3, 4 ,5 ,6, 7]\n",
        "print(set(x)) \n",
        "\n",
        "\n"
      ]
    }
  ]
}
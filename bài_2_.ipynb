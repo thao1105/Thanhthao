{
  "nbformat": 4,
  "nbformat_minor": 0,
  "metadata": {
    "colab": {
      "provenance": [],
      "authorship_tag": "ABX9TyMhyRmEIGIgcFAg1E9vvGDr",
      "include_colab_link": true
    },
    "kernelspec": {
      "name": "python3",
      "display_name": "Python 3"
    },
    "language_info": {
      "name": "python"
    }
  },
  "cells": [
    {
      "cell_type": "markdown",
      "metadata": {
        "id": "view-in-github",
        "colab_type": "text"
      },
      "source": [
        "<a href=\"https://colab.research.google.com/github/thao1105/Thanhthao/blob/main/b%C3%A0i_2_.ipynb\" target=\"_parent\"><img src=\"https://colab.research.google.com/assets/colab-badge.svg\" alt=\"Open In Colab\"/></a>"
      ]
    },
    {
      "cell_type": "markdown",
      "source": [
        "ax^2 +bx+cc"
      ],
      "metadata": {
        "id": "JZLXs-5njQ4s"
      }
    },
    {
      "cell_type": "markdown",
      "source": [],
      "metadata": {
        "id": "bZSpa4zcnzDR"
      }
    },
    {
      "cell_type": "code",
      "source": [
        "def giai_pt_bac_1(a,b):\n",
        "  print(\"Phương trình bậc 1 \")\n",
        "  print(\"hệ số a=\",a)\n",
        "  print(\"hệ số b=\",b)\n",
        "  if a == 0:\n",
        "    if b == 0:\n",
        "        print (\"Phương trình có vô số nghiệm\")\n",
        "    else:\n",
        "        print(\"vô nghiệm :\")   \n",
        "  else:\n",
        "        print(\"nghiệm của phương trình là x =  \", (-b / a))\n"
      ],
      "metadata": {
        "id": "4h4JUCiUo_eL"
      },
      "execution_count": 37,
      "outputs": []
    },
    {
      "cell_type": "code",
      "source": [
        "def giai_pt_bac_2(a,b,c):\n",
        "   print(\"Phương trình bậc 2 \")\n",
        "   print(\"hệ số a=\",a)\n",
        "   print(\"hệ số b=\",b)\n",
        "   print(\"hệ số c=\",c)\n",
        "   if a == 0:\n",
        "     giai_pt_bac_1(b,c)\n",
        "   else:\n",
        "        delta = b*b - 4 * a * c\n",
        "        import math\n",
        "        if math.isclose(delta,0):\n",
        "          x = -b/2*a\n",
        "          print(\"Phương trình có 2 nghiệm kép =\",x)\n",
        "        else:\n",
        "          if delta > 0:\n",
        "            x1 = (-b + math.sqrt(delta))/2*a\n",
        "            x2 = (-b - math.sqrt(delta))/2*a\n",
        "            print(\"Phương trình bậc 2 có 2 nghiệm phân biệt \")\n",
        "            print(\"\\t Nghiệm thứ nhất x1 =\",x1)\n",
        "            print(\"\\t Nghiệm thứ nhất x2 =\",x2)\n",
        "          else:\n",
        "            print(\"Phương trình bậc 2 vô nghiệm \")\n",
        " \n",
        "\n",
        "\n",
        "  \n"
      ],
      "metadata": {
        "id": "K0M_jXKDqBdJ"
      },
      "execution_count": 51,
      "outputs": []
    },
    {
      "cell_type": "code",
      "source": [
        "def main():\n",
        "  giai_pt_bac_2(0,0,0)\n",
        "  giai_pt_bac_2(0,12,5)\n",
        "  giai_pt_bac_2(0,2,4)\n",
        "  giai_pt_bac_2(7,2,5)\n",
        "  giai_pt_bac_2(3,2,5)"
      ],
      "metadata": {
        "id": "42qHIkIus-63"
      },
      "execution_count": 46,
      "outputs": []
    },
    {
      "cell_type": "code",
      "source": [
        "if __name__==\"__main__\":\n",
        "  main()"
      ],
      "metadata": {
        "colab": {
          "base_uri": "https://localhost:8080/"
        },
        "id": "W-R0Js2YtnQY",
        "outputId": "c8d44871-960c-45a0-b9cf-0f5cf6d58abd"
      },
      "execution_count": 52,
      "outputs": [
        {
          "output_type": "stream",
          "name": "stdout",
          "text": [
            "Phương trình bậc 2 \n",
            "hệ số a= 0\n",
            "hệ số b= 0\n",
            "hệ số c= 0\n",
            "Phương trình bậc 1 \n",
            "hệ số a= 0\n",
            "hệ số b= 0\n",
            "Phương trình có vô số nghiệm\n",
            "Phương trình bậc 2 \n",
            "hệ số a= 0\n",
            "hệ số b= 12\n",
            "hệ số c= 5\n",
            "Phương trình bậc 1 \n",
            "hệ số a= 12\n",
            "hệ số b= 5\n",
            "nghiệm của phương trình là x =   -0.4166666666666667\n",
            "Phương trình bậc 2 \n",
            "hệ số a= 0\n",
            "hệ số b= 2\n",
            "hệ số c= 4\n",
            "Phương trình bậc 1 \n",
            "hệ số a= 2\n",
            "hệ số b= 4\n",
            "nghiệm của phương trình là x =   -2.0\n",
            "Phương trình bậc 2 \n",
            "hệ số a= 7\n",
            "hệ số b= 2\n",
            "hệ số c= 5\n",
            "Phương trình bậc 2 vô nghiệm \n",
            "Phương trình bậc 2 \n",
            "hệ số a= 3\n",
            "hệ số b= 2\n",
            "hệ số c= 5\n",
            "Phương trình bậc 2 vô nghiệm \n"
          ]
        }
      ]
    }
  ]
}
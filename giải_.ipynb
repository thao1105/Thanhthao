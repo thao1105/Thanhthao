{
  "nbformat": 4,
  "nbformat_minor": 0,
  "metadata": {
    "colab": {
      "provenance": [],
      "authorship_tag": "ABX9TyN4H6MwCv2OzW35ZQUhQqMo",
      "include_colab_link": true
    },
    "kernelspec": {
      "name": "python3",
      "display_name": "Python 3"
    },
    "language_info": {
      "name": "python"
    }
  },
  "cells": [
    {
      "cell_type": "markdown",
      "metadata": {
        "id": "view-in-github",
        "colab_type": "text"
      },
      "source": [
        "<a href=\"https://colab.research.google.com/github/thao1105/Thanhthao/blob/main/gi%E1%BA%A3i_.ipynb\" target=\"_parent\"><img src=\"https://colab.research.google.com/assets/colab-badge.svg\" alt=\"Open In Colab\"/></a>"
      ]
    },
    {
      "cell_type": "code",
      "execution_count": null,
      "metadata": {
        "id": "cSCeB75GZaKF"
      },
      "outputs": [],
      "source": [
        "import random \n"
      ]
    },
    {
      "cell_type": "code",
      "source": [
        "random.seed(100)"
      ],
      "metadata": {
        "id": "N0VPPhL-d006"
      },
      "execution_count": null,
      "outputs": []
    },
    {
      "cell_type": "code",
      "source": [
        "n = abs(int(input(\"Nhập n = \")))"
      ],
      "metadata": {
        "colab": {
          "base_uri": "https://localhost:8080/"
        },
        "id": "CMQm3WPYeDgq",
        "outputId": "b8eba40e-6233-421f-ccad-ac607c5fd4a7"
      },
      "execution_count": null,
      "outputs": [
        {
          "name": "stdout",
          "output_type": "stream",
          "text": [
            "Nhập n = 4\n"
          ]
        }
      ]
    },
    {
      "cell_type": "markdown",
      "source": [
        "Bài 1\n"
      ],
      "metadata": {
        "id": "9b9jgSeriFF1"
      }
    },
    {
      "cell_type": "code",
      "source": [
        "a = 8 \n",
        "b = 5 \n",
        "x = [(b-a)*random.random() + a for i in range (n)]\n",
        "print(x)"
      ],
      "metadata": {
        "colab": {
          "base_uri": "https://localhost:8080/"
        },
        "id": "g12qjHOReavR",
        "outputId": "f2e71ab5-2137-4430-f592-753a9c9e48e4"
      },
      "execution_count": null,
      "outputs": [
        {
          "output_type": "stream",
          "name": "stdout",
          "text": [
            "[7.562992234687609, 6.635218986457936, 5.687648583022933, 5.883460319197916]\n"
          ]
        }
      ]
    },
    {
      "cell_type": "markdown",
      "source": [
        "Bài 2 "
      ],
      "metadata": {
        "id": "h3GaMeNmiGvk"
      }
    },
    {
      "cell_type": "code",
      "source": [
        "def sinh_vector_so_nguyen(n):\n",
        "  x = [random.randint(-5, 5) for i in range(n)]\n",
        "  return x\n",
        "y = sinh_vector_so_nguyen(n)\n",
        "print(y)\n"
      ],
      "metadata": {
        "colab": {
          "base_uri": "https://localhost:8080/"
        },
        "id": "I2x4ZK16k6Oe",
        "outputId": "7f485846-a115-4093-df6d-5f7ec90aefbb"
      },
      "execution_count": null,
      "outputs": [
        {
          "output_type": "stream",
          "name": "stdout",
          "text": [
            "[-2, -3, -3, -2]\n"
          ]
        }
      ]
    },
    {
      "cell_type": "markdown",
      "source": [
        "Bài 3\n"
      ],
      "metadata": {
        "id": "IvsfG1x0iIPt"
      }
    },
    {
      "cell_type": "code",
      "source": [
        "for i in range(0,n-1):\n",
        "  for j in range (i+1,n):\n",
        "    if x[i] > x[j]:\n",
        "      x[i],x[j] = x[j],x[i]\n",
        "print(x)\n"
      ],
      "metadata": {
        "colab": {
          "base_uri": "https://localhost:8080/"
        },
        "id": "Whkgy2_kgsvs",
        "outputId": "c4073448-9f8a-420c-98e4-62f491f84897"
      },
      "execution_count": null,
      "outputs": [
        {
          "output_type": "stream",
          "name": "stdout",
          "text": [
            "[5.687648583022933, 5.883460319197916, 6.635218986457936, 7.562992234687609]\n"
          ]
        }
      ]
    },
    {
      "cell_type": "markdown",
      "source": [
        "Bài 4 \n"
      ],
      "metadata": {
        "id": "4_4O_jrNiJg2"
      }
    },
    {
      "cell_type": "code",
      "source": [
        "def sap_xep_tang_dan(v):\n",
        "  n = len(v)\n",
        "  for i in range(0,n-1):\n",
        "    for j in range (i+1,n):\n",
        "      if x[i] > x[j]:\n",
        "        x[i], x[j] =  x[j], x[i]\n",
        "  return x \n",
        "z = sap_xep_tang_dan(y)\n",
        "print(z)\n",
        "print(y)"
      ],
      "metadata": {
        "colab": {
          "base_uri": "https://localhost:8080/"
        },
        "id": "3QRkIJK8iKe_",
        "outputId": "f6c13a20-f467-4d8d-b5e2-2e72a3395713"
      },
      "execution_count": null,
      "outputs": [
        {
          "output_type": "stream",
          "name": "stdout",
          "text": [
            "[5.687648583022933, 5.883460319197916, 6.635218986457936, 7.562992234687609]\n",
            "[-2, 0, -2, -1]\n"
          ]
        }
      ]
    },
    {
      "cell_type": "code",
      "source": [
        "def sap_xep_tang_dan2(v):\n",
        "  n = len(v)\n",
        "  v1 = v.copy()\n",
        "  for i in range(0, n - 1):\n",
        "    for j in range(i+1, n):\n",
        "      if v1[i] > v1[j]:\n",
        "        v1[i], v1[j] = v1[j], v1[i]\n",
        "  return v1\n",
        "  z = sap_xep_tang_dan2(y)\n",
        "print(z)\n",
        "print(y)"
      ],
      "metadata": {
        "colab": {
          "base_uri": "https://localhost:8080/"
        },
        "id": "PFcwA0NvkCXn",
        "outputId": "611052f2-f002-462b-fa4e-8def424cfe1b"
      },
      "execution_count": null,
      "outputs": [
        {
          "output_type": "stream",
          "name": "stdout",
          "text": [
            "[5.687648583022933, 5.883460319197916, 6.635218986457936, 7.562992234687609]\n",
            "[-2, 0, -2, -1]\n"
          ]
        }
      ]
    },
    {
      "cell_type": "markdown",
      "source": [
        "Câu 5 "
      ],
      "metadata": {
        "id": "YWM3llqgmsMA"
      }
    },
    {
      "cell_type": "code",
      "source": [
        "def sap_xep_giam_dan(v):\n",
        "  n = len(v)\n",
        "  v1 = v.copy()\n",
        "  for i in range(0, n - 1):\n",
        "    for j in range(i+1, n):\n",
        "      if v1[i] < v1[j]:\n",
        "        v1[i], v1[j] = v1[j], v1[i]\n",
        "  return v1\n",
        "  z = sap_xep_giam_dan(y)\n",
        "print(z)"
      ],
      "metadata": {
        "colab": {
          "base_uri": "https://localhost:8080/"
        },
        "id": "SC6B_FZilsfu",
        "outputId": "178a6f1c-23ac-4019-914b-6f6ea3249cae"
      },
      "execution_count": null,
      "outputs": [
        {
          "output_type": "stream",
          "name": "stdout",
          "text": [
            "[5.687648583022933, 5.883460319197916, 6.635218986457936, 7.562992234687609]\n"
          ]
        }
      ]
    },
    {
      "cell_type": "markdown",
      "source": [
        "Câu 6"
      ],
      "metadata": {
        "id": "lZIMAERKmvyg"
      }
    },
    {
      "cell_type": "code",
      "source": [
        "def sap_xep(v, flag):\n",
        "  if flag == True:\n",
        "    return sap_xep_tang_dan2(v)\n",
        "  else:\n",
        "    return sap_xep_giam_dan(v)\n",
        "z = sap_xep(y, True)\n",
        "print(z)\n",
        "z = sap_xep(y, False)\n",
        "print(z)"
      ],
      "metadata": {
        "colab": {
          "base_uri": "https://localhost:8080/"
        },
        "id": "3aFgaeYalytm",
        "outputId": "417cbc31-f130-4537-d679-f203be361e35"
      },
      "execution_count": null,
      "outputs": [
        {
          "output_type": "stream",
          "name": "stdout",
          "text": [
            "[-2, -2, -1, 0]\n",
            "[0, -1, -2, -2]\n"
          ]
        }
      ]
    },
    {
      "cell_type": "code",
      "source": [
        "import random \n",
        "random.seed(100)"
      ],
      "metadata": {
        "id": "gsZg0wi1nOWx"
      },
      "execution_count": null,
      "outputs": []
    },
    {
      "cell_type": "code",
      "source": [
        "def tim_vi_tri_dau_tien1(v, n):\n",
        "  for i in range(len(v)):\n",
        "    if v[i] == n:\n",
        "     return i\n",
        "  return None"
      ],
      "metadata": {
        "id": "_yPZF6FSuDP0"
      },
      "execution_count": null,
      "outputs": []
    },
    {
      "cell_type": "code",
      "source": [
        "def tim_vi_tri_dau_tien2(v,n):\n",
        "  flag = False \n",
        "  vitri = 0 \n",
        "  for i in range(len(v)):\n",
        "    if v[i] == n:\n",
        "      flag = True \n",
        "      vitri = i \n",
        "      break \n",
        "    if flag == True:\n",
        "      return vitri \n",
        "    else:\n",
        "      return None \n",
        "x = sinh_vector_so_nguyen(10)\n",
        "print(x)\n",
        "\n",
        "  "
      ],
      "metadata": {
        "colab": {
          "base_uri": "https://localhost:8080/"
        },
        "id": "Uv5wGL3Op9HA",
        "outputId": "0379728b-6368-4905-8ad7-2072d3a27586"
      },
      "execution_count": null,
      "outputs": [
        {
          "output_type": "stream",
          "name": "stdout",
          "text": [
            "[-2, 2, 5, 1, -3, 4, 3, -5, 4, -2]\n"
          ]
        }
      ]
    },
    {
      "cell_type": "code",
      "source": [
        "print(tim_vi_tri_dau_tien1(x, 4))"
      ],
      "metadata": {
        "colab": {
          "base_uri": "https://localhost:8080/"
        },
        "id": "moZ6K9NMuHf8",
        "outputId": "3f0aa998-9eec-4040-fb7a-6452b320322f"
      },
      "execution_count": null,
      "outputs": [
        {
          "output_type": "stream",
          "name": "stdout",
          "text": [
            "5\n"
          ]
        }
      ]
    },
    {
      "cell_type": "code",
      "source": [
        "print(tim_vi_tri_dau_tien2(x, 4))"
      ],
      "metadata": {
        "colab": {
          "base_uri": "https://localhost:8080/"
        },
        "id": "UPRsYSNnuOXE",
        "outputId": "a88705a8-d6c6-4a33-81b9-e65842efea0e"
      },
      "execution_count": null,
      "outputs": [
        {
          "output_type": "stream",
          "name": "stdout",
          "text": [
            "None\n"
          ]
        }
      ]
    },
    {
      "cell_type": "code",
      "source": [
        "print(tim_vi_tri_dau_tien1(x, 3))"
      ],
      "metadata": {
        "colab": {
          "base_uri": "https://localhost:8080/"
        },
        "id": "02wMWISmuR4U",
        "outputId": "cdc7990f-6531-4ce3-84c7-b852935f5e4f"
      },
      "execution_count": null,
      "outputs": [
        {
          "output_type": "stream",
          "name": "stdout",
          "text": [
            "6\n"
          ]
        }
      ]
    },
    {
      "cell_type": "code",
      "source": [
        "print(tim_vi_tri_dau_tien2(x, 3))"
      ],
      "metadata": {
        "colab": {
          "base_uri": "https://localhost:8080/"
        },
        "id": "czxDOi5ouUz8",
        "outputId": "06f2d287-e465-4aab-e3d4-a62725488140"
      },
      "execution_count": null,
      "outputs": [
        {
          "output_type": "stream",
          "name": "stdout",
          "text": [
            "None\n"
          ]
        }
      ]
    },
    {
      "cell_type": "code",
      "source": [
        "import random\n",
        "random.seed(123)"
      ],
      "metadata": {
        "id": "FhECOEkwS56l"
      },
      "execution_count": 7,
      "outputs": []
    },
    {
      "cell_type": "code",
      "source": [
        "def sinh_vector_so_nguyen(n):\n",
        "  x = [random.randint(-5, 5) for i in range(n)]\n",
        "  return x"
      ],
      "metadata": {
        "id": "33m8pteLS80d"
      },
      "execution_count": 8,
      "outputs": []
    },
    {
      "cell_type": "code",
      "source": [
        "x = sinh_vector_so_nguyen(10)\n",
        "print(x)"
      ],
      "metadata": {
        "colab": {
          "base_uri": "https://localhost:8080/"
        },
        "id": "k0o4VpS7TD2t",
        "outputId": "c210fbd9-2366-4929-8755-4cdfecd0c348"
      },
      "execution_count": 10,
      "outputs": [
        {
          "output_type": "stream",
          "name": "stdout",
          "text": [
            "[-5, -1, -4, 1, -1, -4, -5, 1, 3, 3]\n"
          ]
        }
      ]
    },
    {
      "cell_type": "code",
      "source": [
        "result =  tim_vi_tri_dau_tien1(x, 4)\n",
        "if result == None:\n",
        "  print('Khong tim thay')\n",
        "else:\n",
        "  print('Vi tri: ', result)"
      ],
      "metadata": {
        "colab": {
          "base_uri": "https://localhost:8080/"
        },
        "id": "KENo4KJkueA0",
        "outputId": "c0b42746-34ec-41b4-fa35-f89cca0eedb6"
      },
      "execution_count": null,
      "outputs": [
        {
          "output_type": "stream",
          "name": "stdout",
          "text": [
            "Vi tri:  5\n"
          ]
        }
      ]
    },
    {
      "cell_type": "code",
      "source": [
        "def tim_vi_tri_cuoi_cung(v, n):\n",
        "  for i in range(len(v)):\n",
        "    if v[i] == n:\n",
        "     return i\n",
        "  return None"
      ],
      "metadata": {
        "id": "_sHVTKIpvaIk"
      },
      "execution_count": null,
      "outputs": []
    },
    {
      "cell_type": "code",
      "source": [
        "def tim_vi_tri_cuoi_cung(v, n):\n",
        "  vitri = None\n",
        "  for i in range(len(v)):\n",
        "    if v[i] == n:\n",
        "     vitri = i\n",
        "  return vitri"
      ],
      "metadata": {
        "id": "_ehwVWWkSJvu"
      },
      "execution_count": 1,
      "outputs": []
    },
    {
      "cell_type": "code",
      "source": [
        "def dem_phan_tu(v, n):\n",
        "  count = 0\n",
        "  for i in range(len(v)):\n",
        "    if v[i] == n:\n",
        "      count = count + 1\n",
        "  return count"
      ],
      "metadata": {
        "id": "j7ePqsGuSoe-"
      },
      "execution_count": 5,
      "outputs": []
    },
    {
      "cell_type": "code",
      "source": [
        "dem = dem_phan_tu(x, 8)\n",
        "if dem == 0:\n",
        "  print('Khong co phan tu nay trong vector')\n",
        "else:\n",
        "  print('So lan xuat hien cua phan tu nay trong vector la ', dem)"
      ],
      "metadata": {
        "colab": {
          "base_uri": "https://localhost:8080/"
        },
        "id": "ceVgqQtDSsJ-",
        "outputId": "462069e9-b99a-444f-f205-7f6f37b51df7"
      },
      "execution_count": 11,
      "outputs": [
        {
          "output_type": "stream",
          "name": "stdout",
          "text": [
            "Khong co phan tu nay trong vector\n"
          ]
        }
      ]
    },
    {
      "cell_type": "code",
      "source": [
        "def liet_ke_phan_tu(v, n):\n",
        "  vitri = []\n",
        "  for i in range(len(v)):\n",
        "    if v[i] == n:\n",
        "      vitri.append(i)\n",
        "  return vitri"
      ],
      "metadata": {
        "id": "I0YH1jKrTLO-"
      },
      "execution_count": 12,
      "outputs": []
    },
    {
      "cell_type": "code",
      "source": [
        "position = liet_ke_phan_tu(x, -1)\n",
        "if len(position) == 0:\n",
        "  print('Khong co phan tu nay trong vector')\n",
        "else:\n",
        "  print('Cac vi tri xuat hien la: ', position)"
      ],
      "metadata": {
        "colab": {
          "base_uri": "https://localhost:8080/"
        },
        "id": "SM_SJrhWTNvf",
        "outputId": "62d40bbb-e4a2-433e-8520-27a46f93cd2e"
      },
      "execution_count": 13,
      "outputs": [
        {
          "output_type": "stream",
          "name": "stdout",
          "text": [
            "Cac vi tri xuat hien la:  [1, 4]\n"
          ]
        }
      ]
    }
  ]
}
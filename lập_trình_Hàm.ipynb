{
  "nbformat": 4,
  "nbformat_minor": 0,
  "metadata": {
    "colab": {
      "provenance": [],
      "authorship_tag": "ABX9TyNZSuDP2X2vdFyUuPznyuld",
      "include_colab_link": true
    },
    "kernelspec": {
      "name": "python3",
      "display_name": "Python 3"
    },
    "language_info": {
      "name": "python"
    }
  },
  "cells": [
    {
      "cell_type": "markdown",
      "metadata": {
        "id": "view-in-github",
        "colab_type": "text"
      },
      "source": [
        "<a href=\"https://colab.research.google.com/github/thao1105/Thanhthao/blob/main/l%E1%BA%ADp_tr%C3%ACnh_H%C3%A0m.ipynb\" target=\"_parent\"><img src=\"https://colab.research.google.com/assets/colab-badge.svg\" alt=\"Open In Colab\"/></a>"
      ]
    },
    {
      "cell_type": "code",
      "execution_count": 2,
      "metadata": {
        "id": "7Lht5PSpapB7"
      },
      "outputs": [],
      "source": [
        "def welcome():\n",
        "    print(\"Welcome to Huế city \")"
      ]
    },
    {
      "cell_type": "code",
      "source": [
        "def welcome2(message):\n",
        "     print(message)"
      ],
      "metadata": {
        "id": "t5mBXZz-b2w3"
      },
      "execution_count": 3,
      "outputs": []
    },
    {
      "cell_type": "code",
      "source": [
        "def nhap_so_n():\n",
        "  n = abs(int(input(\"n=\")))\n",
        "  return n"
      ],
      "metadata": {
        "id": "lQLOXWK8cR4d"
      },
      "execution_count": 5,
      "outputs": []
    },
    {
      "cell_type": "code",
      "source": [
        "def tinh_tong(n):\n",
        "  s=0 \n",
        "  for i in range(1,n+1):\n",
        "   s=s+i \n",
        "  return s"
      ],
      "metadata": {
        "id": "NEJizWaucn4O"
      },
      "execution_count": 23,
      "outputs": []
    },
    {
      "cell_type": "code",
      "source": [
        "def main():\n",
        "  welcome()\n",
        "  welcome2(\"Welcome to Đà Nẵng \")\n",
        "  n = nhap_so_n ()\n",
        "  s = tinh_tong(n)\n",
        "  print(\"s=\",s)\n"
      ],
      "metadata": {
        "id": "Mye2wXlFdRXn"
      },
      "execution_count": 27,
      "outputs": []
    },
    {
      "cell_type": "code",
      "source": [
        "if __name__==\"__main__\":\n",
        "  main()"
      ],
      "metadata": {
        "colab": {
          "base_uri": "https://localhost:8080/"
        },
        "id": "TmcxKi_EeUKV",
        "outputId": "f9412203-9dfe-4cc6-f80b-b62d6f0da8ae"
      },
      "execution_count": 28,
      "outputs": [
        {
          "output_type": "stream",
          "name": "stdout",
          "text": [
            "Welcome to Huế city \n",
            "Welcome to Đà Nẵng \n",
            "n=100\n",
            "s= 5050\n"
          ]
        }
      ]
    }
  ]
}
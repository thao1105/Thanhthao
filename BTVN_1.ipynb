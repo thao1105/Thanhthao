{
  "nbformat": 4,
  "nbformat_minor": 0,
  "metadata": {
    "colab": {
      "provenance": [],
      "authorship_tag": "ABX9TyOH6y6iEGYwaFMibNa+B0qP",
      "include_colab_link": true
    },
    "kernelspec": {
      "name": "python3",
      "display_name": "Python 3"
    },
    "language_info": {
      "name": "python"
    }
  },
  "cells": [
    {
      "cell_type": "markdown",
      "metadata": {
        "id": "view-in-github",
        "colab_type": "text"
      },
      "source": [
        "<a href=\"https://colab.research.google.com/github/thao1105/Thanhthao/blob/main/BTVN_1.ipynb\" target=\"_parent\"><img src=\"https://colab.research.google.com/assets/colab-badge.svg\" alt=\"Open In Colab\"/></a>"
      ]
    },
    {
      "cell_type": "markdown",
      "source": [
        "Bài 1 "
      ],
      "metadata": {
        "id": "gzChbSIbcqft"
      }
    },
    {
      "cell_type": "code",
      "execution_count": 2,
      "metadata": {
        "colab": {
          "base_uri": "https://localhost:8080/"
        },
        "id": "0J0cNgid_-cZ",
        "outputId": "f9b82c45-3be2-45da-9f90-2a9af73cd12c"
      },
      "outputs": [
        {
          "output_type": "stream",
          "name": "stdout",
          "text": [
            "Mời bạn nhập lần lượt 7 phần tử x\n",
            "0\n",
            "1\n",
            "2\n",
            "3\n",
            "4\n",
            "5\n",
            "6\n",
            "[0, 1, 2, 3, 4, 5, 6]\n"
          ]
        }
      ],
      "source": [
        "x = []\n",
        "print(\"Mời bạn nhập lần lượt 7 phần tử x\")\n",
        "for i in range (0,7,1):\n",
        "  x.append(int(input()))\n",
        "print(x) \n"
      ]
    },
    {
      "cell_type": "markdown",
      "source": [
        "Bài 2\n",
        "\n"
      ],
      "metadata": {
        "id": "qanLN2UaZNos"
      }
    },
    {
      "cell_type": "code",
      "source": [
        "import random\n",
        "x = []\n",
        "for i in range (0,30,1):\n",
        "  x = (random.randint(-10,10))\n",
        "print(\"random number between -10 and 10 is % d\" % (x))"
      ],
      "metadata": {
        "colab": {
          "base_uri": "https://localhost:8080/"
        },
        "id": "8yXAz06icxrJ",
        "outputId": "0a905d0f-6b12-4fd9-eed0-63bedc73f994"
      },
      "execution_count": null,
      "outputs": [
        {
          "output_type": "stream",
          "name": "stdout",
          "text": [
            "random number between -10 and 10 is -2\n"
          ]
        }
      ]
    },
    {
      "cell_type": "markdown",
      "source": [
        "Bài 3 "
      ],
      "metadata": {
        "id": "jK3CM0jk5Qq6"
      }
    },
    {
      "cell_type": "code",
      "source": [
        "import random \n",
        "x = []\n",
        "for i in range (0,30,1):\n",
        "  x.append(random.uniform(-5.7,6.9))\n",
        "print(x)"
      ],
      "metadata": {
        "id": "tIX_MMmK5aWy",
        "colab": {
          "base_uri": "https://localhost:8080/"
        },
        "outputId": "66da9348-f8e4-4bcc-ce8a-4ee9fd5aabce"
      },
      "execution_count": null,
      "outputs": [
        {
          "output_type": "stream",
          "name": "stdout",
          "text": [
            "[1.1546000025848775, -5.621184694735252, 6.351870341228271, -4.117266948642994, 2.350126786357033, 3.183566836160046, 2.8487903194013606, -0.20060979782984845, -0.36240544290998855, -5.393756576365821, 0.3225910804624377, 6.252992438117906, -4.411471488143585, 0.508222082542793, 1.4852571287570173, 2.47995823133635, 5.285182674797414, 1.9509381539405357, 5.267055064544752, 0.929486500629924, 3.5734821706258417, -2.0958220930472584, -0.9219360546346129, -3.0685500752719554, 6.428083269470249, -3.933997994123959, 6.861458771778504, -1.792024909370423, 0.7777545967340957, -1.5760282320776389]\n"
          ]
        }
      ]
    },
    {
      "cell_type": "markdown",
      "source": [
        "Bài 4 "
      ],
      "metadata": {
        "id": "Ol5z1aRkhQ-L"
      }
    },
    {
      "cell_type": "code",
      "source": [
        "import random\n",
        "x = []\n",
        "x1 = []\n",
        "a = int(input(\"Nhập phần tử của a = \"))\n",
        "for i in range (0,10,1):\n",
        "  x.append(random.randint(-10,10))\n",
        "  x1.append(x[i]*a)\n",
        "print(\"vector x được sinh ngẫu nhiên :\",x)\n",
        "print(\"Nhân số với vector\",x1)"
      ],
      "metadata": {
        "colab": {
          "base_uri": "https://localhost:8080/"
        },
        "id": "YXgIU44LhV_V",
        "outputId": "a9a5c750-67a0-4629-9916-a8b9b05d2efa"
      },
      "execution_count": 9,
      "outputs": [
        {
          "output_type": "stream",
          "name": "stdout",
          "text": [
            "Nhập phần tử của a = 4\n",
            "vector x được sinh ngẫu nhiên : [-7, 10, -10, 8, -1, 8, 7, 0, 10, 1]\n",
            "Nhân số với vector [-28, 40, -40, 32, -4, 32, 28, 0, 40, 4]\n"
          ]
        }
      ]
    },
    {
      "cell_type": "markdown",
      "source": [
        "Bài 5 "
      ],
      "metadata": {
        "id": "_z9AYBo76SlU"
      }
    },
    {
      "cell_type": "code",
      "source": [
        "import random \n",
        "x = []\n",
        "y = []\n",
        "x3 = []\n",
        "x4 = []\n",
        "for i in range(0,15,1):\n",
        "    x.append(random.randint(-20, 20))\n",
        "    y.append(random.randint(-20, 20))\n",
        "    x3.append(x[i]+y[i])\n",
        "    x4.append(x[i]-y[i])\n",
        "print(\"vector x được sinh ngẫu nhiên :\",x)\n",
        "print(\"vector y được sinh ngẫu nhiên :\",y)\n",
        "print(\"Phép cộng của 2 vector x, y :\",x3)\n",
        "print(\"Phép trừ của 2 vector x, y :\",x4)"
      ],
      "metadata": {
        "colab": {
          "base_uri": "https://localhost:8080/"
        },
        "id": "SwuYW8oFNfBx",
        "outputId": "eed3742b-bdee-4d43-c78e-40362258f76e"
      },
      "execution_count": 11,
      "outputs": [
        {
          "output_type": "stream",
          "name": "stdout",
          "text": [
            "vector x được sinh ngẫu nhiên : [-12, 14, -5, 3, -13, -4, -11, -13, -14, 18, 6, -3, 15, 13, -8]\n",
            "vector y được sinh ngẫu nhiên : [11, 10, 18, 8, -16, -11, -2, -18, -20, -5, -14, 15, 18, -1, 0]\n",
            "Phép cộng của 2 vector x, y : [-1, 24, 13, 11, -29, -15, -13, -31, -34, 13, -8, 12, 33, 12, -8]\n",
            "Phép trừ của 2 vector x, y : [-23, 4, -23, -5, 3, 7, -9, 5, 6, 23, 20, -18, -3, 14, -8]\n"
          ]
        }
      ]
    },
    {
      "cell_type": "markdown",
      "source": [
        "Bài 6 "
      ],
      "metadata": {
        "id": "Kb0MjzpPVQn7"
      }
    },
    {
      "cell_type": "code",
      "source": [
        "import random \n",
        "import numpy as np\n",
        "x =[]\n",
        "y = []\n",
        "phep_nhan = []\n",
        "for i in range(0,10,1):\n",
        "    x.append(random.randint(-10, 10))\n",
        "    y.append(random.randint(-10,10))\n",
        "    phep_nhan= np.multiply(x , y)\n",
        "print(\"vector x được sinh ngẫu nhiên :\",x)\n",
        "print(\"vector y được sinh ngẫu nhiên :\",y)\n",
        "print(\"phép nhân elementwise multiplication x*y :\",phep_nhan)"
      ],
      "metadata": {
        "colab": {
          "base_uri": "https://localhost:8080/"
        },
        "id": "iuN7BDE0VUg5",
        "outputId": "08e8a787-bb99-4319-b203-4235bcbb329c"
      },
      "execution_count": 25,
      "outputs": [
        {
          "output_type": "stream",
          "name": "stdout",
          "text": [
            "vector x được sinh ngẫu nhiên : [3, 0, -2, 8, 9, -10, 6, -8, 2, -1]\n",
            "vector y được sinh ngẫu nhiên : [2, -4, 3, 3, -2, -4, 5, 10, 7, -5]\n",
            "phép nhân elementwise multiplication x*y : [  6   0  -6  24 -18  40  30 -80  14   5]\n"
          ]
        }
      ]
    },
    {
      "cell_type": "markdown",
      "source": [
        "Bài 7 "
      ],
      "metadata": {
        "id": "E49iXBf7hdkX"
      }
    },
    {
      "cell_type": "code",
      "source": [
        "import random\n",
        "import numpy as np\n",
        "x = []\n",
        "y = []\n",
        "T_V_H = 0 \n",
        "for i in range (0,10,1):\n",
        "    x.append(random.randint(-10,10))\n",
        "    y.append(random.randint(-10,10))\n",
        "    T_V_H += (x[i]*y[i])\n",
        "print(x)\n",
        "print(y)\n",
        "print(\"Tích vô hướng của 2 vector x, y :\",T_V_H)"
      ],
      "metadata": {
        "colab": {
          "base_uri": "https://localhost:8080/"
        },
        "id": "xBrZ9A1ihe3g",
        "outputId": "26cc5e32-7af2-4518-c2f0-eac6046a2c49"
      },
      "execution_count": 34,
      "outputs": [
        {
          "output_type": "stream",
          "name": "stdout",
          "text": [
            "[-2, -2, -5, -9, -4, 2, 7, 4, 7, 5]\n",
            "[0, 4, -10, 10, 0, -9, 10, -2, 2, 4]\n",
            "Tích vô hướng của 2 vector x, y : 30\n"
          ]
        }
      ]
    },
    {
      "cell_type": "markdown",
      "source": [
        "Bài 8 "
      ],
      "metadata": {
        "id": "wTYsP38Vst9y"
      }
    },
    {
      "cell_type": "code",
      "source": [
        "import numpy as np\n",
        "import random \n",
        "x = []\n",
        "x = np.random.randint(-10,10,size = (3,5))\n",
        "print(x)\n",
        "print(\"phần tử a23 :\",x[1,2])"
      ],
      "metadata": {
        "colab": {
          "base_uri": "https://localhost:8080/"
        },
        "id": "vzVaKUYGDCK8",
        "outputId": "27f603d8-1fe6-45f1-df29-2e862d82ca0d"
      },
      "execution_count": 65,
      "outputs": [
        {
          "output_type": "stream",
          "name": "stdout",
          "text": [
            "[[  4  -1 -10   2   6]\n",
            " [ -5  -4  -9   3  -6]\n",
            " [  6   6   3   7  -9]]\n",
            "phần tử a23 : -9\n"
          ]
        }
      ]
    },
    {
      "cell_type": "markdown",
      "source": [
        "Bài 9 "
      ],
      "metadata": {
        "id": "Q8ZGym6zN21i"
      }
    },
    {
      "cell_type": "code",
      "source": [
        "import numpy as np\n",
        "import random\n",
        "a = int(input(\"Mời bạn nhập số a = \"))\n",
        "for i in range(0,10,1):\n",
        "  x = np.random.randint(-10,10,size = (3,5))\n",
        "print(x)\n",
        "print(\"Phép nhân vô hướng với ma trận A:\",a*x)\n",
        "\n"
      ],
      "metadata": {
        "colab": {
          "base_uri": "https://localhost:8080/"
        },
        "id": "FuOGHrEJN4aw",
        "outputId": "6f0f909e-d6c6-4343-c3e1-261511de6feb"
      },
      "execution_count": 69,
      "outputs": [
        {
          "output_type": "stream",
          "name": "stdout",
          "text": [
            "Mời bạn nhập số a = 8\n",
            "[[ 1  9  3 -7 -9]\n",
            " [ 3 -7 -8 -8  3]\n",
            " [-9  8 -8  3  4]]\n",
            "Phép nhân vô hướng với ma trận A: [[  8  72  24 -56 -72]\n",
            " [ 24 -56 -64 -64  24]\n",
            " [-72  64 -64  24  32]]\n"
          ]
        }
      ]
    },
    {
      "cell_type": "markdown",
      "source": [
        "Bài 10 "
      ],
      "metadata": {
        "id": "9iylzQbFWXsC"
      }
    },
    {
      "cell_type": "code",
      "source": [
        "import random \n",
        "import numpy as np \n",
        "for i in range (0,10,1):\n",
        "  A=np.random.randint(-10,10,size = (3,5))\n",
        "  B=np.random.randint(-10,10,size = (3,5))\n",
        "print(A)\n",
        "print(B)\n",
        "print(A+B)\n"
      ],
      "metadata": {
        "colab": {
          "base_uri": "https://localhost:8080/"
        },
        "id": "TaTQNVhoWY8t",
        "outputId": "76b2a4dd-e230-4ffe-a6a4-20d33cf39fb8"
      },
      "execution_count": null,
      "outputs": [
        {
          "output_type": "stream",
          "name": "stdout",
          "text": [
            "[[-10  -7  -6  -7   5]\n",
            " [ -2  -9   1   5   4]\n",
            " [ -6  -3  -7  -5   0]]\n",
            "[[  4   1  -8   9  -4]\n",
            " [ -3   2 -10   4  -1]\n",
            " [  6  -8 -10   2  -7]]\n",
            "[[ -6  -6 -14   2   1]\n",
            " [ -5  -7  -9   9   3]\n",
            " [  0 -11 -17  -3  -7]]\n"
          ]
        }
      ]
    },
    {
      "cell_type": "markdown",
      "source": [
        "Bài 11 "
      ],
      "metadata": {
        "id": "HX8CWjlvX350"
      }
    },
    {
      "cell_type": "code",
      "source": [
        "import random \n",
        "import numpy as np \n",
        "for i in range(0,10,1):\n",
        "  A=np.random.randint(-10,10,size = (3,4))\n",
        "  B=np.random.randint(-10,10,size = (4,5))\n",
        "print(A)\n",
        "print(B)\n",
        "print(A@B)"
      ],
      "metadata": {
        "colab": {
          "base_uri": "https://localhost:8080/"
        },
        "id": "RFAE234CYdNp",
        "outputId": "3f02cf88-e19b-4b4a-c202-6c4b6d48e0f2"
      },
      "execution_count": null,
      "outputs": [
        {
          "output_type": "stream",
          "name": "stdout",
          "text": [
            "[[ 8 -8 -1  4]\n",
            " [ 2  2 -2  9]\n",
            " [ 6 -1  8  5]]\n",
            "[[  1   1  -8  -7   5]\n",
            " [  7 -10   8   1  -4]\n",
            " [-10   0   6   3   9]\n",
            " [  1 -10  -7   0   1]]\n",
            "[[ -34   48 -162  -67   67]\n",
            " [  45 -108  -75  -18   -7]\n",
            " [ -76  -34  -43  -19  111]]\n"
          ]
        }
      ]
    }
  ]
}
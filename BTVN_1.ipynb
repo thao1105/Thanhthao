{
  "nbformat": 4,
  "nbformat_minor": 0,
  "metadata": {
    "colab": {
      "provenance": [],
      "authorship_tag": "ABX9TyP8Xz0oQTG67AEdZF8t/mQs",
      "include_colab_link": true
    },
    "kernelspec": {
      "name": "python3",
      "display_name": "Python 3"
    },
    "language_info": {
      "name": "python"
    }
  },
  "cells": [
    {
      "cell_type": "markdown",
      "metadata": {
        "id": "view-in-github",
        "colab_type": "text"
      },
      "source": [
        "<a href=\"https://colab.research.google.com/github/thao1105/Thanhthao/blob/main/BTVN_1.ipynb\" target=\"_parent\"><img src=\"https://colab.research.google.com/assets/colab-badge.svg\" alt=\"Open In Colab\"/></a>"
      ]
    },
    {
      "cell_type": "markdown",
      "source": [
        "Bài 1 "
      ],
      "metadata": {
        "id": "gzChbSIbcqft"
      }
    },
    {
      "cell_type": "code",
      "execution_count": null,
      "metadata": {
        "colab": {
          "base_uri": "https://localhost:8080/"
        },
        "id": "0J0cNgid_-cZ",
        "outputId": "231240b3-bca9-41ed-8875-9d0eab2f6656"
      },
      "outputs": [
        {
          "output_type": "stream",
          "name": "stdout",
          "text": [
            "Mời bạn nhập lần lượt 7 phần tử x\n",
            "8\n",
            "0\n",
            "2\n",
            "5\n",
            "1\n",
            "3\n",
            "7\n",
            "[8, 0, 2, 5, 1, 3, 7]\n"
          ]
        }
      ],
      "source": [
        "x = []\n",
        "print(\"Mời bạn nhập lần lượt 7 phần tử x\")\n",
        "for i in range (0,7,1):\n",
        "  x.append(int(input()))\n",
        "print(x) \n"
      ]
    },
    {
      "cell_type": "markdown",
      "source": [
        "Bài 2\n",
        "\n"
      ],
      "metadata": {
        "id": "qanLN2UaZNos"
      }
    },
    {
      "cell_type": "code",
      "source": [
        "import random\n",
        "x = []\n",
        "for i in range (0,30,1):\n",
        "  x = (random.randint(-10,10))\n",
        "print(\"random number between -10 and 10 is % d\" % (x))"
      ],
      "metadata": {
        "colab": {
          "base_uri": "https://localhost:8080/"
        },
        "id": "8yXAz06icxrJ",
        "outputId": "0a905d0f-6b12-4fd9-eed0-63bedc73f994"
      },
      "execution_count": null,
      "outputs": [
        {
          "output_type": "stream",
          "name": "stdout",
          "text": [
            "random number between -10 and 10 is -2\n"
          ]
        }
      ]
    },
    {
      "cell_type": "markdown",
      "source": [
        "Bài 3 "
      ],
      "metadata": {
        "id": "jK3CM0jk5Qq6"
      }
    },
    {
      "cell_type": "code",
      "source": [
        "import random \n",
        "x = []\n",
        "for i in range (0,30,1):\n",
        "  x.append(random.uniform(-5.7,6.9))\n",
        "print(x)"
      ],
      "metadata": {
        "id": "tIX_MMmK5aWy",
        "colab": {
          "base_uri": "https://localhost:8080/"
        },
        "outputId": "66da9348-f8e4-4bcc-ce8a-4ee9fd5aabce"
      },
      "execution_count": null,
      "outputs": [
        {
          "output_type": "stream",
          "name": "stdout",
          "text": [
            "[1.1546000025848775, -5.621184694735252, 6.351870341228271, -4.117266948642994, 2.350126786357033, 3.183566836160046, 2.8487903194013606, -0.20060979782984845, -0.36240544290998855, -5.393756576365821, 0.3225910804624377, 6.252992438117906, -4.411471488143585, 0.508222082542793, 1.4852571287570173, 2.47995823133635, 5.285182674797414, 1.9509381539405357, 5.267055064544752, 0.929486500629924, 3.5734821706258417, -2.0958220930472584, -0.9219360546346129, -3.0685500752719554, 6.428083269470249, -3.933997994123959, 6.861458771778504, -1.792024909370423, 0.7777545967340957, -1.5760282320776389]\n"
          ]
        }
      ]
    },
    {
      "cell_type": "markdown",
      "source": [
        "Bài 4 "
      ],
      "metadata": {
        "id": "Ol5z1aRkhQ-L"
      }
    },
    {
      "cell_type": "code",
      "source": [
        "import random\n",
        "x = []\n",
        "x1 = []\n",
        "a = int(input(\"Nhập phần tử của a = \"))\n",
        "for i in range (0,10,1):\n",
        "  x.append(random.randint(-10,10))\n",
        "  x1.append(x[i]*a)\n",
        "print(x)\n",
        "print(x1)"
      ],
      "metadata": {
        "colab": {
          "base_uri": "https://localhost:8080/"
        },
        "id": "YXgIU44LhV_V",
        "outputId": "6569f597-630a-491c-9ade-08e6bc69a6e4"
      },
      "execution_count": null,
      "outputs": [
        {
          "output_type": "stream",
          "name": "stdout",
          "text": [
            "Nhập phần tử của a = 4\n",
            "[-4, -10, -3, -7, -10, -4, 4, -8, 2, 4]\n",
            "[-16, -40, -12, -28, -40, -16, 16, -32, 8, 16]\n"
          ]
        }
      ]
    },
    {
      "cell_type": "markdown",
      "source": [
        "Bài 5 "
      ],
      "metadata": {
        "id": "_z9AYBo76SlU"
      }
    },
    {
      "cell_type": "code",
      "source": [
        "import random \n",
        "x1 = []\n",
        "x2 = []\n",
        "x3 = []\n",
        "x4 = []\n",
        "for i in range(0,15,1):\n",
        "    x1.append(random.randint(-20, 20))\n",
        "    x2.append(random.randint(-20, 20))\n",
        "    x3.append(x1[i]+x2[i])\n",
        "    x4.append(x1[i]-x2[i])\n",
        "print(x1)\n",
        "print(x2)\n",
        "print(x3)\n",
        "print(x4)"
      ],
      "metadata": {
        "colab": {
          "base_uri": "https://localhost:8080/"
        },
        "id": "SwuYW8oFNfBx",
        "outputId": "1eddc1ef-16f2-4554-ab87-f20afddfc3f9"
      },
      "execution_count": null,
      "outputs": [
        {
          "output_type": "stream",
          "name": "stdout",
          "text": [
            "[6, -15, -5, -13, 6, -16, -20, 16, 8, -6, 1, 5, -9, -5, 18]\n",
            "[19, 7, 12, -20, -19, 14, -4, -12, 11, 13, -3, 14, -12, 2, 10]\n",
            "[25, -8, 7, -33, -13, -2, -24, 4, 19, 7, -2, 19, -21, -3, 28]\n",
            "[-13, -22, -17, 7, 25, -30, -16, 28, -3, -19, 4, -9, 3, -7, 8]\n"
          ]
        }
      ]
    },
    {
      "cell_type": "markdown",
      "source": [
        "Bài 6 "
      ],
      "metadata": {
        "id": "Kb0MjzpPVQn7"
      }
    },
    {
      "cell_type": "code",
      "source": [
        "import random \n",
        "import numpy as np\n",
        "x1 =[]\n",
        "x2 = []\n",
        "x = []\n",
        "for i in range(0,10,1):\n",
        "    x1.append(random.randint(-10, 10))\n",
        "    x2.append(random.randint(-10,10))\n",
        "    x = np.multiply(x1, x2)\n",
        "print(x1)\n",
        "print(x2)\n",
        "print(x)"
      ],
      "metadata": {
        "colab": {
          "base_uri": "https://localhost:8080/"
        },
        "id": "iuN7BDE0VUg5",
        "outputId": "dfcc7b4f-c8e0-4e33-9cbd-3a24b966f51d"
      },
      "execution_count": null,
      "outputs": [
        {
          "output_type": "stream",
          "name": "stdout",
          "text": [
            "[-2, -10, 4, 6, -9, -5, 4, -7, 2, -7]\n",
            "[-4, 2, -10, -10, 5, -4, -5, -2, -6, -1]\n",
            "[  8 -20 -40 -60 -45  20 -20  14 -12   7]\n"
          ]
        }
      ]
    },
    {
      "cell_type": "markdown",
      "source": [
        "Bài 7 "
      ],
      "metadata": {
        "id": "E49iXBf7hdkX"
      }
    },
    {
      "cell_type": "code",
      "source": [
        "import random\n",
        "import numpy as np\n",
        "x = []\n",
        "y = []\n",
        "TVH = 0 \n",
        "for i in range (0,10,1):\n",
        "    x.append(random.randint(-10,10))\n",
        "    y.append(random.randint(-10,10))\n",
        "    TVH += (x[i]*y[i])\n",
        "print(x)\n",
        "print(y)\n",
        "print(TVH)"
      ],
      "metadata": {
        "colab": {
          "base_uri": "https://localhost:8080/"
        },
        "id": "xBrZ9A1ihe3g",
        "outputId": "0e9fafcb-6ce4-4fe7-c897-baa1a2cce6e5"
      },
      "execution_count": null,
      "outputs": [
        {
          "output_type": "stream",
          "name": "stdout",
          "text": [
            "[7, -4, -5, 5, 6, 1, 10, -6, 0, 5]\n",
            "[4, 1, -1, 0, 1, 0, -4, 3, -1, -1]\n",
            "-28\n"
          ]
        }
      ]
    },
    {
      "cell_type": "markdown",
      "source": [
        "Bài 8 "
      ],
      "metadata": {
        "id": "wTYsP38Vst9y"
      }
    },
    {
      "cell_type": "code",
      "source": [
        "import numpy as np\n",
        "import random \n",
        "x = []\n",
        "a = np.random.randint(0,10,size = (3,5))\n",
        "print(a)\n",
        "print(a[1,2])"
      ],
      "metadata": {
        "colab": {
          "base_uri": "https://localhost:8080/"
        },
        "id": "vzVaKUYGDCK8",
        "outputId": "b9c5bf17-a4dc-4c05-ca4a-5f85446a3807"
      },
      "execution_count": null,
      "outputs": [
        {
          "output_type": "stream",
          "name": "stdout",
          "text": [
            "[[3 5 8 7 9]\n",
            " [2 9 4 0 8]\n",
            " [9 5 7 9 8]]\n",
            "4\n"
          ]
        }
      ]
    },
    {
      "cell_type": "markdown",
      "source": [
        "Bài 9 "
      ],
      "metadata": {
        "id": "Q8ZGym6zN21i"
      }
    },
    {
      "cell_type": "code",
      "source": [
        "import numpy as np\n",
        "import random\n",
        "a = int(input(\"Mời bạn nhập số a = \"))\n",
        "for i in range(0,10,1):\n",
        "  x = np.random.randint(-10,10,size = (3,5))\n",
        "print(x)\n",
        "print(a*x)\n",
        "\n"
      ],
      "metadata": {
        "colab": {
          "base_uri": "https://localhost:8080/"
        },
        "id": "FuOGHrEJN4aw",
        "outputId": "b3d7a167-4022-4b61-f4ea-73ba8bb928e0"
      },
      "execution_count": 6,
      "outputs": [
        {
          "output_type": "stream",
          "name": "stdout",
          "text": [
            "Mời bạn nhập số a = 8\n",
            "[[-6  1 -7 -8 -4]\n",
            " [-6  5 -4 -3  0]\n",
            " [-4  3 -4  9 -1]]\n",
            "[[-48   8 -56 -64 -32]\n",
            " [-48  40 -32 -24   0]\n",
            " [-32  24 -32  72  -8]]\n"
          ]
        }
      ]
    },
    {
      "cell_type": "markdown",
      "source": [
        "Bài 10 "
      ],
      "metadata": {
        "id": "9iylzQbFWXsC"
      }
    },
    {
      "cell_type": "code",
      "source": [
        "import random \n",
        "import numpy as np \n",
        "for i in range (0,10,1):\n",
        "  A=np.random.randint(-10,10,size = (3,5))\n",
        "  B=np.random.randint(-10,10,size = (3,5))\n",
        "print(A)\n",
        "print(B)\n",
        "print(A+B)\n"
      ],
      "metadata": {
        "colab": {
          "base_uri": "https://localhost:8080/"
        },
        "id": "TaTQNVhoWY8t",
        "outputId": "76b2a4dd-e230-4ffe-a6a4-20d33cf39fb8"
      },
      "execution_count": 12,
      "outputs": [
        {
          "output_type": "stream",
          "name": "stdout",
          "text": [
            "[[-10  -7  -6  -7   5]\n",
            " [ -2  -9   1   5   4]\n",
            " [ -6  -3  -7  -5   0]]\n",
            "[[  4   1  -8   9  -4]\n",
            " [ -3   2 -10   4  -1]\n",
            " [  6  -8 -10   2  -7]]\n",
            "[[ -6  -6 -14   2   1]\n",
            " [ -5  -7  -9   9   3]\n",
            " [  0 -11 -17  -3  -7]]\n"
          ]
        }
      ]
    },
    {
      "cell_type": "markdown",
      "source": [
        "Bài 11 "
      ],
      "metadata": {
        "id": "HX8CWjlvX350"
      }
    },
    {
      "cell_type": "code",
      "source": [
        "import random \n",
        "import numpy as np \n",
        "for i in range(0,10,1):\n",
        "  A=np.random.randint(-10,10,size = (3,4))\n",
        "  B=np.random.randint(-10,10,size = (4,5))\n",
        "print(A)\n",
        "print(B)\n",
        "print(A@B)"
      ],
      "metadata": {
        "colab": {
          "base_uri": "https://localhost:8080/"
        },
        "id": "RFAE234CYdNp",
        "outputId": "3f02cf88-e19b-4b4a-c202-6c4b6d48e0f2"
      },
      "execution_count": 18,
      "outputs": [
        {
          "output_type": "stream",
          "name": "stdout",
          "text": [
            "[[ 8 -8 -1  4]\n",
            " [ 2  2 -2  9]\n",
            " [ 6 -1  8  5]]\n",
            "[[  1   1  -8  -7   5]\n",
            " [  7 -10   8   1  -4]\n",
            " [-10   0   6   3   9]\n",
            " [  1 -10  -7   0   1]]\n",
            "[[ -34   48 -162  -67   67]\n",
            " [  45 -108  -75  -18   -7]\n",
            " [ -76  -34  -43  -19  111]]\n"
          ]
        }
      ]
    }
  ]
}